{
 "cells": [
  {
   "attachments": {},
   "cell_type": "markdown",
   "metadata": {},
   "source": [
    "## Recbole"
   ]
  }
 ],
 "metadata": {
  "kernelspec": {
   "display_name": "lastfm_venv",
   "language": "python",
   "name": "python3"
  },
  "language_info": {
   "name": "python",
   "version": "3.10.9"
  },
  "orig_nbformat": 4,
  "vscode": {
   "interpreter": {
    "hash": "9e30340a8910f56f55df821abc0976f66a273ff0fac1da8c537e8f21e9ad59ea"
   }
  }
 },
 "nbformat": 4,
 "nbformat_minor": 2
}
