{
 "cells": [
  {
   "attachments": {},
   "cell_type": "markdown",
   "metadata": {},
   "source": [
    "## Surprise"
   ]
  },
  {
   "attachments": {},
   "cell_type": "markdown",
   "metadata": {},
   "source": [
    "### Loading Data"
   ]
  },
  {
   "cell_type": "code",
   "execution_count": 1,
   "metadata": {},
   "outputs": [],
   "source": [
    "PATH = \"../data/recsys_data/all_tracks_ratings.csv\""
   ]
  },
  {
   "cell_type": "code",
   "execution_count": 2,
   "metadata": {},
   "outputs": [],
   "source": [
    "import os\n",
    "\n",
    "from surprise import Dataset, Reader\n",
    "from surprise.model_selection import cross_validate\n",
    "\n",
    "# path to dataset file\n",
    "file_path = os.path.expanduser(PATH)\n",
    "\n",
    "# As we're loading a custom dataset, we need to define a reader. In the\n",
    "# movielens-100k dataset, each line has the following format:\n",
    "# 'user item rating timestamp', separated by '\\t' characters.\n",
    "reader = Reader(line_format=\"user item rating timestamp\", sep=\"\\t\", rating_scale=(0, 10), skip_lines=1)\n",
    "\n",
    "data = Dataset.load_from_file(file_path, reader=reader)\n"
   ]
  },
  {
   "cell_type": "code",
   "execution_count": 3,
   "metadata": {},
   "outputs": [
    {
     "data": {
      "text/html": [
       "<div>\n",
       "<style scoped>\n",
       "    .dataframe tbody tr th:only-of-type {\n",
       "        vertical-align: middle;\n",
       "    }\n",
       "\n",
       "    .dataframe tbody tr th {\n",
       "        vertical-align: top;\n",
       "    }\n",
       "\n",
       "    .dataframe thead th {\n",
       "        text-align: right;\n",
       "    }\n",
       "</style>\n",
       "<table border=\"1\" class=\"dataframe\">\n",
       "  <thead>\n",
       "    <tr style=\"text-align: right;\">\n",
       "      <th></th>\n",
       "      <th>test_rmse</th>\n",
       "      <th>test_mae</th>\n",
       "      <th>fit_time</th>\n",
       "      <th>test_time</th>\n",
       "    </tr>\n",
       "    <tr>\n",
       "      <th>Algorithm</th>\n",
       "      <th></th>\n",
       "      <th></th>\n",
       "      <th></th>\n",
       "      <th></th>\n",
       "    </tr>\n",
       "  </thead>\n",
       "  <tbody>\n",
       "    <tr>\n",
       "      <th>SVD</th>\n",
       "      <td>1.750855</td>\n",
       "      <td>1.539501</td>\n",
       "      <td>56.316595</td>\n",
       "      <td>5.760737</td>\n",
       "    </tr>\n",
       "    <tr>\n",
       "      <th>SVDpp</th>\n",
       "      <td>1.759045</td>\n",
       "      <td>1.508094</td>\n",
       "      <td>108.731924</td>\n",
       "      <td>15.542759</td>\n",
       "    </tr>\n",
       "    <tr>\n",
       "      <th>BaselineOnly (ASL)</th>\n",
       "      <td>1.785014</td>\n",
       "      <td>1.621151</td>\n",
       "      <td>2.668497</td>\n",
       "      <td>3.544930</td>\n",
       "    </tr>\n",
       "    <tr>\n",
       "      <th>BaselineOnly (SGD)</th>\n",
       "      <td>1.786680</td>\n",
       "      <td>1.606699</td>\n",
       "      <td>5.614651</td>\n",
       "      <td>3.611229</td>\n",
       "    </tr>\n",
       "    <tr>\n",
       "      <th>CoClustering</th>\n",
       "      <td>1.939653</td>\n",
       "      <td>1.632344</td>\n",
       "      <td>47.381435</td>\n",
       "      <td>3.384535</td>\n",
       "    </tr>\n",
       "    <tr>\n",
       "      <th>NMF</th>\n",
       "      <td>2.578905</td>\n",
       "      <td>2.203351</td>\n",
       "      <td>114.744027</td>\n",
       "      <td>4.356955</td>\n",
       "    </tr>\n",
       "  </tbody>\n",
       "</table>\n",
       "</div>"
      ],
      "text/plain": [
       "                    test_rmse  test_mae    fit_time  test_time\n",
       "Algorithm                                                     \n",
       "SVD                  1.750855  1.539501   56.316595   5.760737\n",
       "SVDpp                1.759045  1.508094  108.731924  15.542759\n",
       "BaselineOnly (ASL)   1.785014  1.621151    2.668497   3.544930\n",
       "BaselineOnly (SGD)   1.786680  1.606699    5.614651   3.611229\n",
       "CoClustering         1.939653  1.632344   47.381435   3.384535\n",
       "NMF                  2.578905  2.203351  114.744027   4.356955"
      ]
     },
     "execution_count": 3,
     "metadata": {},
     "output_type": "execute_result"
    }
   ],
   "source": [
    "# Ref: https://towardsdatascience.com/building-and-testing-recommender-systems-with-surprise-step-by-step-d4ba702ef80b\n",
    "\n",
    "import pandas as pd\n",
    "from surprise import SVD, SVDpp, NMF, CoClustering, BaselineOnly\n",
    "\n",
    "benchmark = []\n",
    "names = [\"SVD\", \"SVDpp\", \"NMF\", \"CoClustering\", \"BaselineOnly (ASL)\", \"BaselineOnly (SGD)\"]\n",
    "# Iterate over all algorithms\n",
    "for algorithm, name in zip([SVD(), SVDpp(), NMF(), CoClustering(), BaselineOnly(verbose=False), BaselineOnly(verbose=False, bsl_options={\"method\": \"sgd\"})], names):\n",
    "    # Perform cross validation\n",
    "    results = cross_validate(algorithm, data, verbose=False, n_jobs=-1)\n",
    "\n",
    "    # Get results & append algorithm name\n",
    "    tmp = pd.DataFrame.from_dict(results).mean(axis=0)\n",
    "    tmp = pd.concat([tmp, pd.Series([name], index=['Algorithm'])])\n",
    "    benchmark.append(tmp)\n",
    "\n",
    "results = pd.DataFrame(benchmark).set_index('Algorithm').sort_values('test_rmse') \n",
    "results"
   ]
  },
  {
   "attachments": {},
   "cell_type": "markdown",
   "metadata": {},
   "source": [
    "Best algorithms seem to be __SVD__, __SVDpp__ & __BaselineOnly__. We'll skip SVDpp because it takes too long."
   ]
  },
  {
   "attachments": {},
   "cell_type": "markdown",
   "metadata": {},
   "source": [
    "Tuning hyperparameters for Singular Value Decomposition (SVD)"
   ]
  },
  {
   "cell_type": "code",
   "execution_count": null,
   "metadata": {},
   "outputs": [],
   "source": [
    "from surprise.model_selection.search import GridSearchCV, RandomizedSearchCV\n",
    "\n",
    "param_grid = {\n",
    "    \"n_epochs\": [5, 10],\n",
    "    \"lr_all\": [0.002, 0.005],\n",
    "    \"reg_all\": [0.2, 0.4, 0.6]\n",
    "}\n",
    "\n",
    "search = GridSearchCV(SVD, param_grid, measures=[\"rmse\"], cv=3, n_jobs=-1)\n",
    "search.fit(data)\n",
    "\n",
    "print(f\"Best score (RMSE): {search.best_score['rmse']}\")\n",
    "print(f\"Best parameters:\")\n",
    "search.best_params\n"
   ]
  },
  {
   "attachments": {},
   "cell_type": "markdown",
   "metadata": {},
   "source": [
    "Tuning hyperparameters for Alternating Least Squares (ALS)"
   ]
  },
  {
   "cell_type": "code",
   "execution_count": 4,
   "metadata": {},
   "outputs": [
    {
     "name": "stdout",
     "output_type": "stream",
     "text": [
      "Estimating biases using als...\n",
      "Estimating biases using als...\n",
      "Estimating biases using als...\n",
      "Estimating biases using als...\n",
      "Estimating biases using als...\n"
     ]
    },
    {
     "data": {
      "text/plain": [
       "(1.8253821459566428, 0.000502012168072076)"
      ]
     },
     "execution_count": 4,
     "metadata": {},
     "output_type": "execute_result"
    }
   ],
   "source": [
    "param_grid = {\n",
    "    'method': 'als',\n",
    "    'n_epochs': [10, 20, 30],\n",
    "    'reg_u': list(range(10, 41, 5)),\n",
    "    'reg_i': list(range(10, 41, 5)),\n",
    "}\n",
    "\n",
    "search = GridSearchCV(BaselineOnly, param_grid, measures=[\"rmse\"], cv=3, n_jobs=-1)\n",
    "search.fit(data)\n",
    "\n",
    "print(f\"Best score (RMSE): {search.best_score['rmse']}\")\n",
    "print(f\"Best parameters:\")\n",
    "search.best_params"
   ]
  },
  {
   "attachments": {},
   "cell_type": "markdown",
   "metadata": {},
   "source": [
    "Tuning hyperparameters for Stochastic Gradient Descent (SGD)"
   ]
  },
  {
   "cell_type": "code",
   "execution_count": 55,
   "metadata": {},
   "outputs": [
    {
     "name": "stdout",
     "output_type": "stream",
     "text": [
      "Estimating biases using sgd...\n",
      "Estimating biases using sgd...\n",
      "Estimating biases using sgd...\n",
      "Estimating biases using sgd...\n",
      "Estimating biases using sgd...\n"
     ]
    },
    {
     "data": {
      "text/plain": [
       "(0.08651354430561885, 8.363508998821686e-05)"
      ]
     },
     "execution_count": 55,
     "metadata": {},
     "output_type": "execute_result"
    }
   ],
   "source": [
    "bsl_options = {\n",
    "    'method': 'sgd',\n",
    "    'n_epochs': 100,\n",
    "    'reg': 0.02,\n",
    "    'learning_rate': 0.00001\n",
    "}\n",
    "\n",
    "algo = BaselineOnly(bsl_options=bsl_options)\n",
    "cv_scores = cross_validate(algo, data, measures=[\n",
    "                           'RMSE'], cv=5, n_jobs=-1, verbose=False)['test_rmse']\n",
    "\n",
    "(cv_scores.mean(), cv_scores.std())\n"
   ]
  }
 ],
 "metadata": {
  "kernelspec": {
   "display_name": "lastfm_venv",
   "language": "python",
   "name": "python3"
  },
  "language_info": {
   "codemirror_mode": {
    "name": "ipython",
    "version": 3
   },
   "file_extension": ".py",
   "mimetype": "text/x-python",
   "name": "python",
   "nbconvert_exporter": "python",
   "pygments_lexer": "ipython3",
   "version": "3.10.9"
  },
  "orig_nbformat": 4,
  "vscode": {
   "interpreter": {
    "hash": "9e30340a8910f56f55df821abc0976f66a273ff0fac1da8c537e8f21e9ad59ea"
   }
  }
 },
 "nbformat": 4,
 "nbformat_minor": 2
}
