{
 "cells": [
  {
   "attachments": {},
   "cell_type": "markdown",
   "metadata": {},
   "source": [
    "# __LastFM Dataset__"
   ]
  },
  {
   "attachments": {},
   "cell_type": "markdown",
   "metadata": {},
   "source": [
    "## Prepare Dataset"
   ]
  },
  {
   "cell_type": "code",
   "execution_count": 2,
   "metadata": {},
   "outputs": [],
   "source": [
    "from db_utils import *\n"
   ]
  },
  {
   "attachments": {},
   "cell_type": "markdown",
   "metadata": {},
   "source": [
    "## Example Queries"
   ]
  },
  {
   "cell_type": "code",
   "execution_count": 2,
   "metadata": {},
   "outputs": [
    {
     "data": {
      "text/plain": [
       "[(402, 191613, 2, 'METAMATERIAL'),\n",
       " (2538, 191613, 2, 'Come Back Down'),\n",
       " (4120, 191613, 3, '発見'),\n",
       " (4539, 191613, 3, '上昇'),\n",
       " (6302, 191613, 2, 'あなたと一人で数分'),\n",
       " (9765, 191613, 3, 'Warmpop'),\n",
       " (10821, 191613, 2, 'Gonna Dream 2nite.'),\n",
       " (10829, 191613, 7, 'Ecco Chamber'),\n",
       " (11415, 191613, 3, 'Better'),\n",
       " (11523, 191613, 8, '着物')]"
      ]
     },
     "metadata": {},
     "output_type": "display_data"
    }
   ],
   "source": [
    "\"\"\" Tracks with vaporwave tag\n",
    "\n",
    "select * from tracktoptags tt join track on track.id = tt.track_id join tag on tag.id = tt.tag_id where tag.name like 'vaporwave' order by track.id;\n",
    "\"\"\"\n",
    "with session.begin() as s:\n",
    "    display(s.query(TRACK_TAGS, TRACK.c.name)\n",
    "            .join(TAG, TAG.c.id == TRACK_TAGS.c.tag_id)\n",
    "            .join(TRACK, TRACK.c.id == TRACK_TAGS.c.track_id)\n",
    "            .filter(TAG.c.name.like('vaporwave'))\n",
    "            .order_by(TRACK.c.id).all()[:10])\n"
   ]
  },
  {
   "cell_type": "code",
   "execution_count": 4,
   "metadata": {},
   "outputs": [
    {
     "data": {
      "text/plain": [
       "[(44315, 'restored', [0.7000000000000001, 0.43836363636363634, 0.5716363636363636, 1.0]),\n",
       " (73764, 'born in seoul', [0.7000000000000001, 0.4136842105263158, 0.5490526315789473, 1.0]),\n",
       " (100234, 'flex dance music', [0.7000000000000001, 0.5177857142857143, 0.5286428571428571, 0.8333333333333334]),\n",
       " (101320, 'found on erins list', [0.7000000000000001, 0.5816666666666667, 0.5708333333333333, 0.6666666666666666]),\n",
       " (95169, 'erin', [0.7000000000000001, 0.5816666666666667, 0.5708333333333333, 0.6666666666666666]),\n",
       " (112347, 'hinário', [0.700001923076923, 0.458, 0.6197076923076923, 0.8305084745762712]),\n",
       " (112306, 'hinario', [0.700001923076923, 0.458, 0.6197076923076923, 0.8305084745762712]),\n",
       " (181233, 'teteu', [0.700001923076923, 0.458, 0.6197076923076923, 0.8305084745762712]),\n",
       " (170081, 'skakanje', [0.7000294117647059, 0.40458823529411764, 0.4942058823529412, 0.9333333333333333]),\n",
       " (145510, 'north', [0.7000307692307692, 0.46478461538461535, 0.6356461538461539, 0.9016393442622951])]"
      ]
     },
     "metadata": {},
     "output_type": "display_data"
    }
   ],
   "source": [
    "\"\"\" Tags with Valence > 0.7\n",
    "\n",
    "select * from tag where tag.vad[1] > 0.7 order by tag.vad[1];\n",
    "\"\"\"\n",
    "with session.begin() as s:\n",
    "    display(s.query(TAG)\n",
    "            .filter(TAG.c.vad[1] > 0.7)\n",
    "            .order_by(TAG.c.vad[1]).all()[:10])\n"
   ]
  },
  {
   "cell_type": "code",
   "execution_count": 5,
   "metadata": {},
   "outputs": [
    {
     "data": {
      "text/plain": [
       "[('seen live', 32838),\n",
       " ('electronic', 23526),\n",
       " ('rock', 22779),\n",
       " ('pop', 20615),\n",
       " ('indie', 16805),\n",
       " ('female vocalists', 13807),\n",
       " ('alternative', 12574),\n",
       " ('hip-hop', 10549),\n",
       " ('american', 10095),\n",
       " ('experimental', 9415)]"
      ]
     },
     "metadata": {},
     "output_type": "display_data"
    }
   ],
   "source": [
    "\"\"\" Tag frequency in artists\n",
    "\n",
    "select t.name, count(t.name) as freq from tag t join artisttoptags att on att.tag_id = t.id join artist a on a.id = att.artist_id group by t.name order by freq desc;\n",
    "\"\"\"\n",
    "from sqlalchemy import func, desc\n",
    "\n",
    "with session.begin() as s:\n",
    "    display(s.query(TAG.c.name, func.count())\n",
    "            .join(ARTIST_TAGS, ARTIST_TAGS.c.tag_id == TAG.c.id)\n",
    "            .join(ARTIST, ARTIST.c.id == ARTIST_TAGS.c.artist_id)\n",
    "            .group_by(TAG.c.name)\n",
    "            .order_by(desc(func.count())).all()[:10])\n"
   ]
  },
  {
   "cell_type": "code",
   "execution_count": 6,
   "metadata": {},
   "outputs": [
    {
     "data": {
      "text/plain": [
       "[('rock', 85199),\n",
       " ('pop', 49831),\n",
       " ('alternative', 46980),\n",
       " ('indie', 38600),\n",
       " ('electronic', 36951),\n",
       " ('metal', 35737),\n",
       " ('female vocalists', 29737),\n",
       " ('alternative rock', 28935),\n",
       " ('indie rock', 19549),\n",
       " ('classic rock', 18676)]"
      ]
     },
     "metadata": {},
     "output_type": "display_data"
    }
   ],
   "source": [
    "\"\"\" Tag frequency in albums\n",
    "\n",
    "select t.name, count(t.name) as freq from tag t join tracktoptags ttt on ttt.tag_id = t.id join track tr on tr.id = ttt.track_id group by t.name order by freq desc;\n",
    "\"\"\"\n",
    "from sqlalchemy import func, desc\n",
    "\n",
    "with session.begin() as s:\n",
    "    display(s.query(TAG.c.name, func.count())\n",
    "            .join(TRACK_TAGS, TRACK_TAGS.c.tag_id == TAG.c.id)\n",
    "            .join(TRACK, TRACK.c.id == TRACK_TAGS.c.track_id)\n",
    "            .group_by(TAG.c.name)\n",
    "            .order_by(desc(func.count())).all()[:10])\n"
   ]
  },
  {
   "cell_type": "code",
   "execution_count": 4,
   "metadata": {},
   "outputs": [
    {
     "data": {
      "text/plain": [
       "[('Anti-Hero - Taylor Swift', 1075),\n",
       " ('As It Was - Harry Styles', 791),\n",
       " ('Glimpse of Us - Joji', 765),\n",
       " ('Karma - Taylor Swift', 654),\n",
       " (\"you're On Your OWn, KId - Taylor Swift\", 613),\n",
       " ('lAveNDER hAZe - Taylor Swift', 610),\n",
       " ('Maroon - Taylor Swift', 609),\n",
       " ('Bejeweled - Taylor Swift', 605),\n",
       " ('sNOw on the beach (feat. lana del rey) - Taylor Swift', 587),\n",
       " ('No Surprises - Radiohead', 583),\n",
       " ('Midnight Rain - Taylor Swift', 546),\n",
       " ('Bad Habit - Steve Lacy', 545),\n",
       " ('505 - Arctic Monkeys', 521),\n",
       " (\"Would've, Could've, Should've - Taylor Swift\", 518),\n",
       " ('Die For You - Joji', 510),\n",
       " ('Everlong - Foo Fighters', 498),\n",
       " ('Heat Waves - Glass Animals', 494),\n",
       " ('Blinding Lights - The Weeknd', 487),\n",
       " ('Space Song - Beach House', 483),\n",
       " ('good 4 u - Olivia Rodrigo', 475)]"
      ]
     },
     "execution_count": 4,
     "metadata": {},
     "output_type": "execute_result"
    }
   ],
   "source": [
    "\"\"\" Top tracks from USER_TOP_TRACKS + USER_RECENT_TRACKS + USER_LOVED_TRACKS\n",
    "\n",
    "select t.name, a.name, count(t.name) from track t join usertoptracks ut on t.id = ut.track_id join artist a on t.artist_id = a.id group by t.name, a.name order by count desc;\n",
    "\"\"\"\n",
    "from sqlalchemy import func, desc\n",
    "from sqlalchemy.orm import Query\n",
    "from collections import Counter\n",
    "\n",
    "with session.begin() as s:\n",
    "    top = Query([TRACK.c.name, ARTIST.c.name, func.count()], session=s).join(USER_TOP_TRACKS, USER_TOP_TRACKS.c.track_id == TRACK.c.id).join(\n",
    "        ARTIST, ARTIST.c.id == TRACK.c.artist_id).group_by(TRACK.c.name, ARTIST.c.name).order_by(desc(func.count())).all()\n",
    "\n",
    "    recent = Query([TRACK.c.name, ARTIST.c.name, func.count()], session=s).join(USER_RECENT_TRACKS, USER_RECENT_TRACKS.c.track_id == TRACK.c.id).join(\n",
    "        ARTIST, ARTIST.c.id == TRACK.c.artist_id).group_by(TRACK.c.name, ARTIST.c.name).order_by(desc(func.count())).all()\n",
    "    \n",
    "    loved = Query([TRACK.c.name, ARTIST.c.name, func.count()], session=s).join(USER_LOVED_TRACKS, USER_LOVED_TRACKS.c.track_id == TRACK.c.id).join(\n",
    "        ARTIST, ARTIST.c.id == TRACK.c.artist_id).group_by(TRACK.c.name, ARTIST.c.name).order_by(desc(func.count())).all()\n",
    "\n",
    "def merge_track_artist(tup):\n",
    "    return (f\"{tup[0]} - {tup[1]}\", tup[2])\n",
    "\n",
    "top = dict(map(merge_track_artist, top))\n",
    "recent =  dict(map(merge_track_artist, recent))\n",
    "loved = dict(map(merge_track_artist, loved))\n",
    "\n",
    "total = Counter()\n",
    "for d in (top, recent, loved):\n",
    "    total.update(d)\n",
    "\n",
    "total.most_common(20)"
   ]
  },
  {
   "cell_type": "code",
   "execution_count": 8,
   "metadata": {},
   "outputs": [
    {
     "name": "stdout",
     "output_type": "stream",
     "text": [
      "Total user-track interactions: 2452162\n"
     ]
    }
   ],
   "source": [
    "print(f'Total user-track interactions: {sum(total.values())}')"
   ]
  },
  {
   "attachments": {},
   "cell_type": "markdown",
   "metadata": {},
   "source": [
    "## Building Model"
   ]
  },
  {
   "attachments": {},
   "cell_type": "markdown",
   "metadata": {},
   "source": [
    "### Using SKLearn's CountVectorizer & Cosine Similarity"
   ]
  },
  {
   "attachments": {},
   "cell_type": "markdown",
   "metadata": {},
   "source": [
    "#### Option 1: Using Tracks own Tags (More specific, less tracks, more sparse)"
   ]
  },
  {
   "cell_type": "code",
   "execution_count": 3,
   "metadata": {},
   "outputs": [
    {
     "name": "stdout",
     "output_type": "stream",
     "text": [
      "Unique tracks: 363140\n"
     ]
    },
    {
     "data": {
      "text/html": [
       "<div>\n",
       "<style scoped>\n",
       "    .dataframe tbody tr th:only-of-type {\n",
       "        vertical-align: middle;\n",
       "    }\n",
       "\n",
       "    .dataframe tbody tr th {\n",
       "        vertical-align: top;\n",
       "    }\n",
       "\n",
       "    .dataframe thead th {\n",
       "        text-align: right;\n",
       "    }\n",
       "</style>\n",
       "<table border=\"1\" class=\"dataframe\">\n",
       "  <thead>\n",
       "    <tr style=\"text-align: right;\">\n",
       "      <th></th>\n",
       "      <th>track_id</th>\n",
       "      <th>tag</th>\n",
       "      <th>rank</th>\n",
       "    </tr>\n",
       "  </thead>\n",
       "  <tbody>\n",
       "    <tr>\n",
       "      <th>0</th>\n",
       "      <td>2</td>\n",
       "      <td>christmas</td>\n",
       "      <td>1</td>\n",
       "    </tr>\n",
       "    <tr>\n",
       "      <th>1</th>\n",
       "      <td>2</td>\n",
       "      <td>xmas</td>\n",
       "      <td>2</td>\n",
       "    </tr>\n",
       "    <tr>\n",
       "      <th>2</th>\n",
       "      <td>2</td>\n",
       "      <td>john lennon</td>\n",
       "      <td>3</td>\n",
       "    </tr>\n",
       "    <tr>\n",
       "      <th>3</th>\n",
       "      <td>2</td>\n",
       "      <td>tinsel</td>\n",
       "      <td>4</td>\n",
       "    </tr>\n",
       "    <tr>\n",
       "      <th>4</th>\n",
       "      <td>2</td>\n",
       "      <td>x-mas</td>\n",
       "      <td>5</td>\n",
       "    </tr>\n",
       "  </tbody>\n",
       "</table>\n",
       "</div>"
      ],
      "text/plain": [
       "   track_id          tag  rank\n",
       "0         2    christmas     1\n",
       "1         2         xmas     2\n",
       "2         2  john lennon     3\n",
       "3         2       tinsel     4\n",
       "4         2        x-mas     5"
      ]
     },
     "execution_count": 3,
     "metadata": {},
     "output_type": "execute_result"
    }
   ],
   "source": [
    "raw_track_tags = get_track_own_tags()\n",
    "print(f\"Unique tracks: {len(raw_track_tags.track_id.unique())}\")\n",
    "raw_track_tags.head(5)"
   ]
  },
  {
   "attachments": {},
   "cell_type": "markdown",
   "metadata": {},
   "source": [
    "#### Option 2: Using Track Artist's Tags (Less specific, more tracks, less sparse)"
   ]
  },
  {
   "cell_type": "code",
   "execution_count": 4,
   "metadata": {},
   "outputs": [
    {
     "name": "stdout",
     "output_type": "stream",
     "text": [
      "Unique tracks: 759923\n"
     ]
    },
    {
     "data": {
      "text/html": [
       "<div>\n",
       "<style scoped>\n",
       "    .dataframe tbody tr th:only-of-type {\n",
       "        vertical-align: middle;\n",
       "    }\n",
       "\n",
       "    .dataframe tbody tr th {\n",
       "        vertical-align: top;\n",
       "    }\n",
       "\n",
       "    .dataframe thead th {\n",
       "        text-align: right;\n",
       "    }\n",
       "</style>\n",
       "<table border=\"1\" class=\"dataframe\">\n",
       "  <thead>\n",
       "    <tr style=\"text-align: right;\">\n",
       "      <th></th>\n",
       "      <th>track_id</th>\n",
       "      <th>tag</th>\n",
       "      <th>rank</th>\n",
       "    </tr>\n",
       "  </thead>\n",
       "  <tbody>\n",
       "    <tr>\n",
       "      <th>0</th>\n",
       "      <td>1</td>\n",
       "      <td>folk</td>\n",
       "      <td>1</td>\n",
       "    </tr>\n",
       "    <tr>\n",
       "      <th>1</th>\n",
       "      <td>1</td>\n",
       "      <td>country</td>\n",
       "      <td>2</td>\n",
       "    </tr>\n",
       "    <tr>\n",
       "      <th>2</th>\n",
       "      <td>1</td>\n",
       "      <td>psychedelic folk</td>\n",
       "      <td>3</td>\n",
       "    </tr>\n",
       "    <tr>\n",
       "      <th>3</th>\n",
       "      <td>1</td>\n",
       "      <td>rock</td>\n",
       "      <td>4</td>\n",
       "    </tr>\n",
       "    <tr>\n",
       "      <th>4</th>\n",
       "      <td>1</td>\n",
       "      <td>american</td>\n",
       "      <td>5</td>\n",
       "    </tr>\n",
       "  </tbody>\n",
       "</table>\n",
       "</div>"
      ],
      "text/plain": [
       "   track_id               tag  rank\n",
       "0         1              folk     1\n",
       "1         1           country     2\n",
       "2         1  psychedelic folk     3\n",
       "3         1              rock     4\n",
       "4         1          american     5"
      ]
     },
     "execution_count": 4,
     "metadata": {},
     "output_type": "execute_result"
    }
   ],
   "source": [
    "raw_track_tags = get_track_artist_tags()\n",
    "print(f\"Unique tracks: {len(raw_track_tags.track_id.unique())}\")\n",
    "raw_track_tags.head(5)"
   ]
  },
  {
   "attachments": {},
   "cell_type": "markdown",
   "metadata": {},
   "source": [
    "#### Option 3: Using Track Album's Tags (Middle ground, though less tracks)"
   ]
  },
  {
   "cell_type": "code",
   "execution_count": 5,
   "metadata": {},
   "outputs": [
    {
     "name": "stdout",
     "output_type": "stream",
     "text": [
      "Unique tracks: 319156\n"
     ]
    },
    {
     "data": {
      "text/html": [
       "<div>\n",
       "<style scoped>\n",
       "    .dataframe tbody tr th:only-of-type {\n",
       "        vertical-align: middle;\n",
       "    }\n",
       "\n",
       "    .dataframe tbody tr th {\n",
       "        vertical-align: top;\n",
       "    }\n",
       "\n",
       "    .dataframe thead th {\n",
       "        text-align: right;\n",
       "    }\n",
       "</style>\n",
       "<table border=\"1\" class=\"dataframe\">\n",
       "  <thead>\n",
       "    <tr style=\"text-align: right;\">\n",
       "      <th></th>\n",
       "      <th>track_id</th>\n",
       "      <th>tag</th>\n",
       "      <th>rank</th>\n",
       "    </tr>\n",
       "  </thead>\n",
       "  <tbody>\n",
       "    <tr>\n",
       "      <th>0</th>\n",
       "      <td>4</td>\n",
       "      <td>melodic death metal</td>\n",
       "      <td>1</td>\n",
       "    </tr>\n",
       "    <tr>\n",
       "      <th>1</th>\n",
       "      <td>4</td>\n",
       "      <td>melodic deathcore</td>\n",
       "      <td>2</td>\n",
       "    </tr>\n",
       "    <tr>\n",
       "      <th>2</th>\n",
       "      <td>4</td>\n",
       "      <td>best albums 2020</td>\n",
       "      <td>3</td>\n",
       "    </tr>\n",
       "    <tr>\n",
       "      <th>3</th>\n",
       "      <td>5</td>\n",
       "      <td>albini</td>\n",
       "      <td>1</td>\n",
       "    </tr>\n",
       "    <tr>\n",
       "      <th>4</th>\n",
       "      <td>5</td>\n",
       "      <td>pop topp 30 1996</td>\n",
       "      <td>2</td>\n",
       "    </tr>\n",
       "  </tbody>\n",
       "</table>\n",
       "</div>"
      ],
      "text/plain": [
       "   track_id                  tag  rank\n",
       "0         4  melodic death metal     1\n",
       "1         4    melodic deathcore     2\n",
       "2         4     best albums 2020     3\n",
       "3         5               albini     1\n",
       "4         5     pop topp 30 1996     2"
      ]
     },
     "execution_count": 5,
     "metadata": {},
     "output_type": "execute_result"
    }
   ],
   "source": [
    "raw_track_tags = get_track_album_tags()\n",
    "print(f\"Unique tracks: {len(raw_track_tags.track_id.unique())}\")\n",
    "raw_track_tags.head(5)"
   ]
  },
  {
   "attachments": {},
   "cell_type": "markdown",
   "metadata": {},
   "source": [
    "#### Option 4: Merging Track and Track Artist/Album's Tags "
   ]
  },
  {
   "cell_type": "code",
   "execution_count": 6,
   "metadata": {},
   "outputs": [],
   "source": [
    "track_own_tags = get_track_own_tags()\n",
    "track_artist_tags = get_track_artist_tags()\n",
    "track_album_tags = get_track_album_tags()"
   ]
  },
  {
   "cell_type": "code",
   "execution_count": 7,
   "metadata": {},
   "outputs": [
    {
     "name": "stdout",
     "output_type": "stream",
     "text": [
      "Unique tracks: 761171\n"
     ]
    },
    {
     "data": {
      "text/html": [
       "<div>\n",
       "<style scoped>\n",
       "    .dataframe tbody tr th:only-of-type {\n",
       "        vertical-align: middle;\n",
       "    }\n",
       "\n",
       "    .dataframe tbody tr th {\n",
       "        vertical-align: top;\n",
       "    }\n",
       "\n",
       "    .dataframe thead th {\n",
       "        text-align: right;\n",
       "    }\n",
       "</style>\n",
       "<table border=\"1\" class=\"dataframe\">\n",
       "  <thead>\n",
       "    <tr style=\"text-align: right;\">\n",
       "      <th></th>\n",
       "      <th>track_id</th>\n",
       "      <th>tag</th>\n",
       "      <th>rank</th>\n",
       "    </tr>\n",
       "  </thead>\n",
       "  <tbody>\n",
       "    <tr>\n",
       "      <th>0</th>\n",
       "      <td>2</td>\n",
       "      <td>christmas</td>\n",
       "      <td>1</td>\n",
       "    </tr>\n",
       "    <tr>\n",
       "      <th>1</th>\n",
       "      <td>2</td>\n",
       "      <td>xmas</td>\n",
       "      <td>2</td>\n",
       "    </tr>\n",
       "    <tr>\n",
       "      <th>2</th>\n",
       "      <td>2</td>\n",
       "      <td>john lennon</td>\n",
       "      <td>3</td>\n",
       "    </tr>\n",
       "    <tr>\n",
       "      <th>3</th>\n",
       "      <td>2</td>\n",
       "      <td>tinsel</td>\n",
       "      <td>4</td>\n",
       "    </tr>\n",
       "    <tr>\n",
       "      <th>4</th>\n",
       "      <td>2</td>\n",
       "      <td>x-mas</td>\n",
       "      <td>5</td>\n",
       "    </tr>\n",
       "    <tr>\n",
       "      <th>...</th>\n",
       "      <td>...</td>\n",
       "      <td>...</td>\n",
       "      <td>...</td>\n",
       "    </tr>\n",
       "    <tr>\n",
       "      <th>5495780</th>\n",
       "      <td>815629</td>\n",
       "      <td>spanish rap</td>\n",
       "      <td>6</td>\n",
       "    </tr>\n",
       "    <tr>\n",
       "      <th>5495781</th>\n",
       "      <td>815629</td>\n",
       "      <td>nach</td>\n",
       "      <td>7</td>\n",
       "    </tr>\n",
       "    <tr>\n",
       "      <th>5495782</th>\n",
       "      <td>815629</td>\n",
       "      <td>hiphop</td>\n",
       "      <td>8</td>\n",
       "    </tr>\n",
       "    <tr>\n",
       "      <th>5495783</th>\n",
       "      <td>815629</td>\n",
       "      <td>spanish hip hop</td>\n",
       "      <td>9</td>\n",
       "    </tr>\n",
       "    <tr>\n",
       "      <th>5495784</th>\n",
       "      <td>815629</td>\n",
       "      <td>french</td>\n",
       "      <td>10</td>\n",
       "    </tr>\n",
       "  </tbody>\n",
       "</table>\n",
       "<p>5495785 rows × 3 columns</p>\n",
       "</div>"
      ],
      "text/plain": [
       "         track_id              tag  rank\n",
       "0               2        christmas     1\n",
       "1               2             xmas     2\n",
       "2               2      john lennon     3\n",
       "3               2           tinsel     4\n",
       "4               2            x-mas     5\n",
       "...           ...              ...   ...\n",
       "5495780    815629      spanish rap     6\n",
       "5495781    815629             nach     7\n",
       "5495782    815629           hiphop     8\n",
       "5495783    815629  spanish hip hop     9\n",
       "5495784    815629           french    10\n",
       "\n",
       "[5495785 rows x 3 columns]"
      ]
     },
     "execution_count": 7,
     "metadata": {},
     "output_type": "execute_result"
    }
   ],
   "source": [
    "# Remove irrelevant tags\n",
    "track_own_tags = track_own_tags[['track' not in t for t in track_own_tags.tag]]\n",
    "track_album_tags = track_album_tags[['album' not in t for t in track_album_tags.tag]]\n",
    "track_artist_tags = track_artist_tags[['artist' not in t for t in track_artist_tags.tag]]\n",
    "\n",
    "# Remove tags with just one track\n",
    "track_own_tags = track_own_tags[track_own_tags.groupby('tag').tag.transform('count') > 1]\n",
    "track_album_tags = track_album_tags[track_album_tags.groupby('tag').tag.transform('count') > 1]\n",
    "track_artist_tags = track_artist_tags[track_artist_tags.groupby('tag').tag.transform('count') > 1]\n",
    "\n",
    "# Merge tags not in set by priority -> track > album > artist\n",
    "new_tracks_album = track_album_tags.loc[~track_album_tags.track_id.isin(track_own_tags.track_id)]\n",
    "raw_track_tags = pd.concat([track_own_tags, new_tracks_album])\n",
    "\n",
    "new_tracks_artist = track_artist_tags.loc[~track_artist_tags.track_id.isin(raw_track_tags.track_id)]\n",
    "raw_track_tags = pd.concat([raw_track_tags, new_tracks_artist]).reset_index(drop=True)\n",
    "\n",
    "print(f\"Unique tracks: {len(raw_track_tags.track_id.unique())}\")\n",
    "raw_track_tags"
   ]
  },
  {
   "attachments": {},
   "cell_type": "markdown",
   "metadata": {},
   "source": [
    "#### Pre-processing"
   ]
  },
  {
   "cell_type": "code",
   "execution_count": 8,
   "metadata": {},
   "outputs": [
    {
     "data": {
      "text/html": [
       "<div>\n",
       "<style scoped>\n",
       "    .dataframe tbody tr th:only-of-type {\n",
       "        vertical-align: middle;\n",
       "    }\n",
       "\n",
       "    .dataframe tbody tr th {\n",
       "        vertical-align: top;\n",
       "    }\n",
       "\n",
       "    .dataframe thead th {\n",
       "        text-align: right;\n",
       "    }\n",
       "</style>\n",
       "<table border=\"1\" class=\"dataframe\">\n",
       "  <thead>\n",
       "    <tr style=\"text-align: right;\">\n",
       "      <th></th>\n",
       "      <th>track_id</th>\n",
       "      <th>tags</th>\n",
       "    </tr>\n",
       "  </thead>\n",
       "  <tbody>\n",
       "    <tr>\n",
       "      <th>0</th>\n",
       "      <td>1</td>\n",
       "      <td>folk folk folk folk folk folk folk folk folk f...</td>\n",
       "    </tr>\n",
       "    <tr>\n",
       "      <th>1</th>\n",
       "      <td>2</td>\n",
       "      <td>christmas christmas christmas christmas christ...</td>\n",
       "    </tr>\n",
       "    <tr>\n",
       "      <th>2</th>\n",
       "      <td>3</td>\n",
       "      <td>wrong wrong wrong wrong wrong wrong wrong wron...</td>\n",
       "    </tr>\n",
       "    <tr>\n",
       "      <th>3</th>\n",
       "      <td>4</td>\n",
       "      <td>melodicdeathmetal melodicdeathmetal melodicdea...</td>\n",
       "    </tr>\n",
       "    <tr>\n",
       "      <th>4</th>\n",
       "      <td>5</td>\n",
       "      <td>slowcore slowcore slowcore slowcore slowcore s...</td>\n",
       "    </tr>\n",
       "    <tr>\n",
       "      <th>...</th>\n",
       "      <td>...</td>\n",
       "      <td>...</td>\n",
       "    </tr>\n",
       "    <tr>\n",
       "      <th>761166</th>\n",
       "      <td>815627</td>\n",
       "      <td>frenchpop frenchpop frenchpop frenchpop french...</td>\n",
       "    </tr>\n",
       "    <tr>\n",
       "      <th>761167</th>\n",
       "      <td>815628</td>\n",
       "      <td>hip-hop hip-hop hip-hop hip-hop hip-hop hip-ho...</td>\n",
       "    </tr>\n",
       "    <tr>\n",
       "      <th>761168</th>\n",
       "      <td>815629</td>\n",
       "      <td>hip-hop hip-hop hip-hop hip-hop hip-hop hip-ho...</td>\n",
       "    </tr>\n",
       "    <tr>\n",
       "      <th>761169</th>\n",
       "      <td>815630</td>\n",
       "      <td>indie indie indie indie indie indie indie indi...</td>\n",
       "    </tr>\n",
       "    <tr>\n",
       "      <th>761170</th>\n",
       "      <td>815631</td>\n",
       "      <td>chamberpop chamberpop chamberpop chamberpop ch...</td>\n",
       "    </tr>\n",
       "  </tbody>\n",
       "</table>\n",
       "<p>761171 rows × 2 columns</p>\n",
       "</div>"
      ],
      "text/plain": [
       "        track_id                                               tags\n",
       "0              1  folk folk folk folk folk folk folk folk folk f...\n",
       "1              2  christmas christmas christmas christmas christ...\n",
       "2              3  wrong wrong wrong wrong wrong wrong wrong wron...\n",
       "3              4  melodicdeathmetal melodicdeathmetal melodicdea...\n",
       "4              5  slowcore slowcore slowcore slowcore slowcore s...\n",
       "...          ...                                                ...\n",
       "761166    815627  frenchpop frenchpop frenchpop frenchpop french...\n",
       "761167    815628  hip-hop hip-hop hip-hop hip-hop hip-hop hip-ho...\n",
       "761168    815629  hip-hop hip-hop hip-hop hip-hop hip-hop hip-ho...\n",
       "761169    815630  indie indie indie indie indie indie indie indi...\n",
       "761170    815631  chamberpop chamberpop chamberpop chamberpop ch...\n",
       "\n",
       "[761171 rows x 2 columns]"
      ]
     },
     "execution_count": 8,
     "metadata": {},
     "output_type": "execute_result"
    }
   ],
   "source": [
    "# Strip spaces and multiply words depending on rank\n",
    "track_tags = raw_track_tags.copy()\n",
    "track_tags['tag'] = track_tags['tag'].apply(lambda x: x.replace(' ', ''))\n",
    "track_tags = track_tags.loc[track_tags.index.repeat(track_tags['rank'].apply(lambda x: 11 - x))]\n",
    "\n",
    "# Group by track id and aggregate into lists\n",
    "grouped_tags = track_tags.groupby(track_tags['track_id'])['tag'].apply(list).reset_index(name='tags')\n",
    "\n",
    "# Create soup of words for each track\n",
    "grouped_tags['tags'] = grouped_tags['tags'].apply(lambda x: ' '.join(x))\n",
    "\n",
    "grouped_tags"
   ]
  },
  {
   "attachments": {},
   "cell_type": "markdown",
   "metadata": {},
   "source": [
    "#### Computing Vectors and Cosine Similarities"
   ]
  },
  {
   "cell_type": "code",
   "execution_count": 12,
   "metadata": {},
   "outputs": [],
   "source": [
    "# Ref: https://www.datacamp.com/tutorial/recommender-systems-python\n",
    "\n",
    "# Import CountVectorizer and create the count matrix\n",
    "from sklearn.feature_extraction.text import CountVectorizer, TfidfVectorizer\n",
    "\n",
    "count = CountVectorizer()\n",
    "count_matrix = count.fit_transform(grouped_tags['tags'])\n"
   ]
  },
  {
   "cell_type": "code",
   "execution_count": 13,
   "metadata": {},
   "outputs": [
    {
     "name": "stdout",
     "output_type": "stream",
     "text": [
      "Vocabulary of size 72706 for 761171 tracks\n"
     ]
    }
   ],
   "source": [
    "track_count, vocab_size = count_matrix.shape\n",
    "\n",
    "print(f\"Vocabulary of size {vocab_size} for {track_count} tracks\")"
   ]
  },
  {
   "cell_type": "code",
   "execution_count": 15,
   "metadata": {},
   "outputs": [],
   "source": [
    "from sklearn.metrics.pairwise import cosine_similarity\n",
    "import numpy as np\n",
    "\n",
    "def get_recommendations(username, tracks_getter, cutoff=10, user_track_cutoff=None):\n",
    "    # Get recent tracks of a user\n",
    "    r_tracks = tracks_getter(username)[:user_track_cutoff]\n",
    "\n",
    "    # Use only tracks with tags\n",
    "    usable_tracks = r_tracks[r_tracks.isin(grouped_tags['track_id'])]\n",
    "    print(f\"{r_tracks.size} tracks, from which {usable_tracks.size} have tags\")\n",
    "\n",
    "    # Filter with grouped_tags\n",
    "    indices = pd.Series(grouped_tags.index, index=grouped_tags['track_id'])\n",
    "    track_idx = indices.loc[usable_tracks]\n",
    "    recommend_tags = grouped_tags.loc[track_idx]\n",
    "\n",
    "    # Vectorize user tracks\n",
    "    recommend_matrix = count.transform(recommend_tags['tags'])\n",
    "    print(f\"Recommendation matrix shape: {recommend_matrix.shape}\")\n",
    "\n",
    "    # Compute the Cosine Similarity matrix based on the count_matrix\n",
    "    similarities = cosine_similarity(count_matrix, recommend_matrix)\n",
    "    \n",
    "    # Delete songs used for recommendation (highest similarity)\n",
    "    similarities = np.delete(similarities, track_idx, axis=0)\n",
    "\n",
    "    # Average similarity for each song\n",
    "    agg_similarities = similarities.mean(axis=1)\n",
    "\n",
    "    # Pairwise scores to each track, ordered by total aggregated similarity\n",
    "    tup_scores = list(enumerate(agg_similarities))\n",
    "    tup_scores.sort(key=lambda x: -x[1])\n",
    "    rec_idx, scores = zip(*tup_scores[:cutoff])\n",
    "    \n",
    "    recomms = grouped_tags.loc[list(rec_idx)]\n",
    "    recomms['tags'] = recomms['tags'].apply(lambda x: ' '.join(pd.Series(x.split(' ')).unique()))\n",
    "    recomms['track_name'] = recomms['track_id'].apply(get_track_name)\n",
    "    recomms['scores'] = scores\n",
    "    \n",
    "    return recomms"
   ]
  },
  {
   "cell_type": "code",
   "execution_count": 30,
   "metadata": {},
   "outputs": [
    {
     "name": "stdout",
     "output_type": "stream",
     "text": [
      "4 tracks, from which 4 have tags\n",
      "Recommendation matrix shape: (4, 72706)\n"
     ]
    },
    {
     "data": {
      "text/html": [
       "<div>\n",
       "<style scoped>\n",
       "    .dataframe tbody tr th:only-of-type {\n",
       "        vertical-align: middle;\n",
       "    }\n",
       "\n",
       "    .dataframe tbody tr th {\n",
       "        vertical-align: top;\n",
       "    }\n",
       "\n",
       "    .dataframe thead th {\n",
       "        text-align: right;\n",
       "    }\n",
       "</style>\n",
       "<table border=\"1\" class=\"dataframe\">\n",
       "  <thead>\n",
       "    <tr style=\"text-align: right;\">\n",
       "      <th></th>\n",
       "      <th>track_id</th>\n",
       "      <th>tags</th>\n",
       "      <th>track_name</th>\n",
       "      <th>scores</th>\n",
       "    </tr>\n",
       "  </thead>\n",
       "  <tbody>\n",
       "    <tr>\n",
       "      <th>618542</th>\n",
       "      <td>662750</td>\n",
       "      <td>drumandbass jungle dnb drumnbass electronic se...</td>\n",
       "      <td>Show Me (feat. Sneaky Sound System) - Cause &amp; ...</td>\n",
       "      <td>0.614125</td>\n",
       "    </tr>\n",
       "    <tr>\n",
       "      <th>672011</th>\n",
       "      <td>720038</td>\n",
       "      <td>trap brazil brazilian crushedtrap hip-hop rap ...</td>\n",
       "      <td>Mentiroza - Sidoka</td>\n",
       "      <td>0.596691</td>\n",
       "    </tr>\n",
       "    <tr>\n",
       "      <th>307361</th>\n",
       "      <td>329346</td>\n",
       "      <td>chillout electronic trap unitedstates futureba...</td>\n",
       "      <td>Black Hole Sun - Prismo</td>\n",
       "      <td>0.586888</td>\n",
       "    </tr>\n",
       "    <tr>\n",
       "      <th>618919</th>\n",
       "      <td>663156</td>\n",
       "      <td>hip-hop rap seenlive hiphop political german c...</td>\n",
       "      <td>Wie viel ist dein Outfit wert - Kummer</td>\n",
       "      <td>0.583466</td>\n",
       "    </tr>\n",
       "    <tr>\n",
       "      <th>22058</th>\n",
       "      <td>23619</td>\n",
       "      <td>k-pop electropop pop dance-pop electrohouse sy...</td>\n",
       "      <td>LOVE DIVE - IVE</td>\n",
       "      <td>0.576433</td>\n",
       "    </tr>\n",
       "    <tr>\n",
       "      <th>234924</th>\n",
       "      <td>251811</td>\n",
       "      <td>krautrock psychedelic progressiverock psychede...</td>\n",
       "      <td>Amboss - Ash Ra Tempel</td>\n",
       "      <td>0.576429</td>\n",
       "    </tr>\n",
       "    <tr>\n",
       "      <th>298239</th>\n",
       "      <td>319579</td>\n",
       "      <td>progressivehouse upliftinghouse</td>\n",
       "      <td>Bromance - Avicii's Arena Mix - Tim Berg</td>\n",
       "      <td>0.576022</td>\n",
       "    </tr>\n",
       "    <tr>\n",
       "      <th>498701</th>\n",
       "      <td>534387</td>\n",
       "      <td>poland</td>\n",
       "      <td>mē - Enkei</td>\n",
       "      <td>0.576022</td>\n",
       "    </tr>\n",
       "    <tr>\n",
       "      <th>107193</th>\n",
       "      <td>114985</td>\n",
       "      <td>kpop pop k-pop 2020 korean trap hiphop hip-hop...</td>\n",
       "      <td>How You Like That - BLACKPINK</td>\n",
       "      <td>0.575022</td>\n",
       "    </tr>\n",
       "    <tr>\n",
       "      <th>42342</th>\n",
       "      <td>45348</td>\n",
       "      <td>k-pop electronic electropop pop dance-pop hous...</td>\n",
       "      <td>PLAY - CHUNG HA</td>\n",
       "      <td>0.574193</td>\n",
       "    </tr>\n",
       "  </tbody>\n",
       "</table>\n",
       "</div>"
      ],
      "text/plain": [
       "        track_id                                               tags  \\\n",
       "618542    662750  drumandbass jungle dnb drumnbass electronic se...   \n",
       "672011    720038  trap brazil brazilian crushedtrap hip-hop rap ...   \n",
       "307361    329346  chillout electronic trap unitedstates futureba...   \n",
       "618919    663156  hip-hop rap seenlive hiphop political german c...   \n",
       "22058      23619  k-pop electropop pop dance-pop electrohouse sy...   \n",
       "234924    251811  krautrock psychedelic progressiverock psychede...   \n",
       "298239    319579                    progressivehouse upliftinghouse   \n",
       "498701    534387                                             poland   \n",
       "107193    114985  kpop pop k-pop 2020 korean trap hiphop hip-hop...   \n",
       "42342      45348  k-pop electronic electropop pop dance-pop hous...   \n",
       "\n",
       "                                               track_name    scores  \n",
       "618542  Show Me (feat. Sneaky Sound System) - Cause & ...  0.614125  \n",
       "672011                                 Mentiroza - Sidoka  0.596691  \n",
       "307361                            Black Hole Sun - Prismo  0.586888  \n",
       "618919             Wie viel ist dein Outfit wert - Kummer  0.583466  \n",
       "22058                                     LOVE DIVE - IVE  0.576433  \n",
       "234924                             Amboss - Ash Ra Tempel  0.576429  \n",
       "298239           Bromance - Avicii's Arena Mix - Tim Berg  0.576022  \n",
       "498701                                         mē - Enkei  0.576022  \n",
       "107193                      How You Like That - BLACKPINK  0.575022  \n",
       "42342                                     PLAY - CHUNG HA  0.574193  "
      ]
     },
     "execution_count": 30,
     "metadata": {},
     "output_type": "execute_result"
    }
   ],
   "source": [
    "get_recommendations(\"Abbygoulding\", user_recent_tracks, user_track_cutoff=4, cutoff=10)\n"
   ]
  },
  {
   "attachments": {},
   "cell_type": "markdown",
   "metadata": {},
   "source": [
    "recommend wtih tags for those tracks not in colab filtering"
   ]
  },
  {
   "cell_type": "markdown",
   "metadata": {},
   "source": [
    "### Using Recbole"
   ]
  },
  {
   "cell_type": "code",
   "execution_count": null,
   "metadata": {},
   "outputs": [],
   "source": []
  }
 ],
 "metadata": {
  "kernelspec": {
   "display_name": "lastfm_venv",
   "language": "python",
   "name": "python3"
  },
  "language_info": {
   "codemirror_mode": {
    "name": "ipython",
    "version": 3
   },
   "file_extension": ".py",
   "mimetype": "text/x-python",
   "name": "python",
   "nbconvert_exporter": "python",
   "pygments_lexer": "ipython3",
   "version": "3.10.9"
  },
  "orig_nbformat": 4,
  "vscode": {
   "interpreter": {
    "hash": "9e30340a8910f56f55df821abc0976f66a273ff0fac1da8c537e8f21e9ad59ea"
   }
  }
 },
 "nbformat": 4,
 "nbformat_minor": 2
}
