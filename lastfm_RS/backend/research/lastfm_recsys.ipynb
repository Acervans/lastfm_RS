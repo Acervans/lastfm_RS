{
 "cells": [
  {
   "attachments": {},
   "cell_type": "markdown",
   "metadata": {},
   "source": [
    "# __LastFM Dataset__"
   ]
  },
  {
   "attachments": {},
   "cell_type": "markdown",
   "metadata": {},
   "source": [
    "## Prepare Dataset"
   ]
  },
  {
   "cell_type": "code",
   "execution_count": 1,
   "metadata": {},
   "outputs": [],
   "source": [
    "from db_utils import *\n"
   ]
  },
  {
   "attachments": {},
   "cell_type": "markdown",
   "metadata": {},
   "source": [
    "## Example Queries"
   ]
  },
  {
   "cell_type": "code",
   "execution_count": 2,
   "metadata": {},
   "outputs": [
    {
     "data": {
      "text/plain": [
       "[(402, 191613, 2, 'METAMATERIAL'),\n",
       " (2538, 191613, 2, 'Come Back Down'),\n",
       " (4120, 191613, 3, '発見'),\n",
       " (4539, 191613, 3, '上昇'),\n",
       " (6302, 191613, 2, 'あなたと一人で数分'),\n",
       " (9765, 191613, 3, 'Warmpop'),\n",
       " (10821, 191613, 2, 'Gonna Dream 2nite.'),\n",
       " (10829, 191613, 7, 'Ecco Chamber'),\n",
       " (11415, 191613, 3, 'Better'),\n",
       " (11523, 191613, 8, '着物')]"
      ]
     },
     "metadata": {},
     "output_type": "display_data"
    }
   ],
   "source": [
    "\"\"\" Tracks with vaporwave tag\n",
    "\n",
    "select * from tracktoptags tt join track on track.id = tt.track_id join tag on tag.id = tt.tag_id where tag.name like 'vaporwave' order by track.id;\n",
    "\"\"\"\n",
    "with session.begin() as s:\n",
    "    display(s.query(TRACK_TAGS, TRACK.c.name)\n",
    "            .join(TAG, TAG.c.id == TRACK_TAGS.c.tag_id)\n",
    "            .join(TRACK, TRACK.c.id == TRACK_TAGS.c.track_id)\n",
    "            .filter(TAG.c.name.like('vaporwave'))\n",
    "            .order_by(TRACK.c.id).all()[:10])\n"
   ]
  },
  {
   "cell_type": "code",
   "execution_count": 4,
   "metadata": {},
   "outputs": [
    {
     "data": {
      "text/plain": [
       "[(44315, 'restored', [0.7000000000000001, 0.43836363636363634, 0.5716363636363636, 1.0]),\n",
       " (73764, 'born in seoul', [0.7000000000000001, 0.4136842105263158, 0.5490526315789473, 1.0]),\n",
       " (100234, 'flex dance music', [0.7000000000000001, 0.5177857142857143, 0.5286428571428571, 0.8333333333333334]),\n",
       " (101320, 'found on erins list', [0.7000000000000001, 0.5816666666666667, 0.5708333333333333, 0.6666666666666666]),\n",
       " (95169, 'erin', [0.7000000000000001, 0.5816666666666667, 0.5708333333333333, 0.6666666666666666]),\n",
       " (112347, 'hinário', [0.700001923076923, 0.458, 0.6197076923076923, 0.8305084745762712]),\n",
       " (112306, 'hinario', [0.700001923076923, 0.458, 0.6197076923076923, 0.8305084745762712]),\n",
       " (181233, 'teteu', [0.700001923076923, 0.458, 0.6197076923076923, 0.8305084745762712]),\n",
       " (170081, 'skakanje', [0.7000294117647059, 0.40458823529411764, 0.4942058823529412, 0.9333333333333333]),\n",
       " (145510, 'north', [0.7000307692307692, 0.46478461538461535, 0.6356461538461539, 0.9016393442622951])]"
      ]
     },
     "metadata": {},
     "output_type": "display_data"
    }
   ],
   "source": [
    "\"\"\" Tags with Valence > 0.7\n",
    "\n",
    "select * from tag where tag.vad[1] > 0.7 order by tag.vad[1];\n",
    "\"\"\"\n",
    "with session.begin() as s:\n",
    "    display(s.query(TAG)\n",
    "            .filter(TAG.c.vad[1] > 0.7)\n",
    "            .order_by(TAG.c.vad[1]).all()[:10])\n"
   ]
  },
  {
   "cell_type": "code",
   "execution_count": 5,
   "metadata": {},
   "outputs": [
    {
     "data": {
      "text/plain": [
       "[('seen live', 32838),\n",
       " ('electronic', 23526),\n",
       " ('rock', 22779),\n",
       " ('pop', 20615),\n",
       " ('indie', 16805),\n",
       " ('female vocalists', 13807),\n",
       " ('alternative', 12574),\n",
       " ('hip-hop', 10549),\n",
       " ('american', 10095),\n",
       " ('experimental', 9415)]"
      ]
     },
     "metadata": {},
     "output_type": "display_data"
    }
   ],
   "source": [
    "\"\"\" Tag frequency in artists\n",
    "\n",
    "select t.name, count(t.name) as freq from tag t join artisttoptags att on att.tag_id = t.id join artist a on a.id = att.artist_id group by t.name order by freq desc;\n",
    "\"\"\"\n",
    "from sqlalchemy import func, desc\n",
    "\n",
    "with session.begin() as s:\n",
    "    display(s.query(TAG.c.name, func.count())\n",
    "            .join(ARTIST_TAGS, ARTIST_TAGS.c.tag_id == TAG.c.id)\n",
    "            .join(ARTIST, ARTIST.c.id == ARTIST_TAGS.c.artist_id)\n",
    "            .group_by(TAG.c.name)\n",
    "            .order_by(desc(func.count())).all()[:10])\n"
   ]
  },
  {
   "cell_type": "code",
   "execution_count": 6,
   "metadata": {},
   "outputs": [
    {
     "data": {
      "text/plain": [
       "[('rock', 85199),\n",
       " ('pop', 49831),\n",
       " ('alternative', 46980),\n",
       " ('indie', 38600),\n",
       " ('electronic', 36951),\n",
       " ('metal', 35737),\n",
       " ('female vocalists', 29737),\n",
       " ('alternative rock', 28935),\n",
       " ('indie rock', 19549),\n",
       " ('classic rock', 18676)]"
      ]
     },
     "metadata": {},
     "output_type": "display_data"
    }
   ],
   "source": [
    "\"\"\" Tag frequency in albums\n",
    "\n",
    "select t.name, count(t.name) as freq from tag t join tracktoptags ttt on ttt.tag_id = t.id join track tr on tr.id = ttt.track_id group by t.name order by freq desc;\n",
    "\"\"\"\n",
    "from sqlalchemy import func, desc\n",
    "\n",
    "with session.begin() as s:\n",
    "    display(s.query(TAG.c.name, func.count())\n",
    "            .join(TRACK_TAGS, TRACK_TAGS.c.tag_id == TAG.c.id)\n",
    "            .join(TRACK, TRACK.c.id == TRACK_TAGS.c.track_id)\n",
    "            .group_by(TAG.c.name)\n",
    "            .order_by(desc(func.count())).all()[:10])\n"
   ]
  },
  {
   "cell_type": "code",
   "execution_count": 4,
   "metadata": {},
   "outputs": [
    {
     "data": {
      "text/plain": [
       "[('Anti-Hero - Taylor Swift', 1075),\n",
       " ('As It Was - Harry Styles', 791),\n",
       " ('Glimpse of Us - Joji', 765),\n",
       " ('Karma - Taylor Swift', 654),\n",
       " (\"you're On Your OWn, KId - Taylor Swift\", 613),\n",
       " ('lAveNDER hAZe - Taylor Swift', 610),\n",
       " ('Maroon - Taylor Swift', 609),\n",
       " ('Bejeweled - Taylor Swift', 605),\n",
       " ('sNOw on the beach (feat. lana del rey) - Taylor Swift', 587),\n",
       " ('No Surprises - Radiohead', 583),\n",
       " ('Midnight Rain - Taylor Swift', 546),\n",
       " ('Bad Habit - Steve Lacy', 545),\n",
       " ('505 - Arctic Monkeys', 521),\n",
       " (\"Would've, Could've, Should've - Taylor Swift\", 518),\n",
       " ('Die For You - Joji', 510),\n",
       " ('Everlong - Foo Fighters', 498),\n",
       " ('Heat Waves - Glass Animals', 494),\n",
       " ('Blinding Lights - The Weeknd', 487),\n",
       " ('Space Song - Beach House', 483),\n",
       " ('good 4 u - Olivia Rodrigo', 475)]"
      ]
     },
     "execution_count": 4,
     "metadata": {},
     "output_type": "execute_result"
    }
   ],
   "source": [
    "\"\"\" Top tracks from USER_TOP_TRACKS + USER_RECENT_TRACKS + USER_LOVED_TRACKS\n",
    "\n",
    "select t.name, a.name, count(t.name) from track t join usertoptracks ut on t.id = ut.track_id join artist a on t.artist_id = a.id group by t.name, a.name order by count desc;\n",
    "\"\"\"\n",
    "from sqlalchemy import func, desc\n",
    "from sqlalchemy.orm import Query\n",
    "from collections import Counter\n",
    "\n",
    "with session.begin() as s:\n",
    "    top = Query([TRACK.c.name, ARTIST.c.name, func.count()], session=s).join(USER_TOP_TRACKS, USER_TOP_TRACKS.c.track_id == TRACK.c.id).join(\n",
    "        ARTIST, ARTIST.c.id == TRACK.c.artist_id).group_by(TRACK.c.name, ARTIST.c.name).order_by(desc(func.count())).all()\n",
    "\n",
    "    recent = Query([TRACK.c.name, ARTIST.c.name, func.count()], session=s).join(USER_RECENT_TRACKS, USER_RECENT_TRACKS.c.track_id == TRACK.c.id).join(\n",
    "        ARTIST, ARTIST.c.id == TRACK.c.artist_id).group_by(TRACK.c.name, ARTIST.c.name).order_by(desc(func.count())).all()\n",
    "    \n",
    "    loved = Query([TRACK.c.name, ARTIST.c.name, func.count()], session=s).join(USER_LOVED_TRACKS, USER_LOVED_TRACKS.c.track_id == TRACK.c.id).join(\n",
    "        ARTIST, ARTIST.c.id == TRACK.c.artist_id).group_by(TRACK.c.name, ARTIST.c.name).order_by(desc(func.count())).all()\n",
    "\n",
    "def merge_track_artist(tup):\n",
    "    return (f\"{tup[0]} - {tup[1]}\", tup[2])\n",
    "\n",
    "top = dict(map(merge_track_artist, top))\n",
    "recent =  dict(map(merge_track_artist, recent))\n",
    "loved = dict(map(merge_track_artist, loved))\n",
    "\n",
    "total = Counter()\n",
    "for d in (top, recent, loved):\n",
    "    total.update(d)\n",
    "\n",
    "total.most_common(20)"
   ]
  },
  {
   "cell_type": "code",
   "execution_count": 8,
   "metadata": {},
   "outputs": [
    {
     "name": "stdout",
     "output_type": "stream",
     "text": [
      "Total user-track interactions: 2452162\n"
     ]
    }
   ],
   "source": [
    "print(f'Total user-track interactions: {sum(total.values())}')"
   ]
  },
  {
   "attachments": {},
   "cell_type": "markdown",
   "metadata": {},
   "source": [
    "## Model Selection"
   ]
  },
  {
   "attachments": {},
   "cell_type": "markdown",
   "metadata": {},
   "source": [
    "### General Recommendation: Using SKLearn's CountVectorizer & Cosine Similarity"
   ]
  },
  {
   "cell_type": "code",
   "execution_count": 19,
   "metadata": {},
   "outputs": [
    {
     "data": {
      "text/html": [
       "<div>\n",
       "<style scoped>\n",
       "    .dataframe tbody tr th:only-of-type {\n",
       "        vertical-align: middle;\n",
       "    }\n",
       "\n",
       "    .dataframe tbody tr th {\n",
       "        vertical-align: top;\n",
       "    }\n",
       "\n",
       "    .dataframe thead th {\n",
       "        text-align: right;\n",
       "    }\n",
       "</style>\n",
       "<table border=\"1\" class=\"dataframe\">\n",
       "  <thead>\n",
       "    <tr style=\"text-align: right;\">\n",
       "      <th></th>\n",
       "      <th>track_id</th>\n",
       "      <th>tags</th>\n",
       "    </tr>\n",
       "  </thead>\n",
       "  <tbody>\n",
       "    <tr>\n",
       "      <th>0</th>\n",
       "      <td>1</td>\n",
       "      <td>folk folk folk folk folk folk folk folk countr...</td>\n",
       "    </tr>\n",
       "    <tr>\n",
       "      <th>1</th>\n",
       "      <td>2</td>\n",
       "      <td>christmas christmas christmas christmas christ...</td>\n",
       "    </tr>\n",
       "    <tr>\n",
       "      <th>2</th>\n",
       "      <td>3</td>\n",
       "      <td>wrong wrong wrong wrong wrong wrong wrong wrong</td>\n",
       "    </tr>\n",
       "    <tr>\n",
       "      <th>3</th>\n",
       "      <td>4</td>\n",
       "      <td>melodicdeathmetal melodicdeathmetal melodicdea...</td>\n",
       "    </tr>\n",
       "    <tr>\n",
       "      <th>4</th>\n",
       "      <td>5</td>\n",
       "      <td>slowcore slowcore slowcore slowcore slowcore s...</td>\n",
       "    </tr>\n",
       "    <tr>\n",
       "      <th>...</th>\n",
       "      <td>...</td>\n",
       "      <td>...</td>\n",
       "    </tr>\n",
       "    <tr>\n",
       "      <th>757597</th>\n",
       "      <td>815627</td>\n",
       "      <td>frenchpop frenchpop frenchpop frenchpop french...</td>\n",
       "    </tr>\n",
       "    <tr>\n",
       "      <th>757598</th>\n",
       "      <td>815628</td>\n",
       "      <td>hiphop hiphop hiphop hiphop hiphop hiphop hiph...</td>\n",
       "    </tr>\n",
       "    <tr>\n",
       "      <th>757599</th>\n",
       "      <td>815629</td>\n",
       "      <td>hiphop hiphop hiphop hiphop hiphop hiphop hiph...</td>\n",
       "    </tr>\n",
       "    <tr>\n",
       "      <th>757600</th>\n",
       "      <td>815630</td>\n",
       "      <td>indie indie indie indie indie indie indie indie</td>\n",
       "    </tr>\n",
       "    <tr>\n",
       "      <th>757601</th>\n",
       "      <td>815631</td>\n",
       "      <td>chamberpop chamberpop chamberpop chamberpop ch...</td>\n",
       "    </tr>\n",
       "  </tbody>\n",
       "</table>\n",
       "<p>757602 rows × 2 columns</p>\n",
       "</div>"
      ],
      "text/plain": [
       "        track_id                                               tags\n",
       "0              1  folk folk folk folk folk folk folk folk countr...\n",
       "1              2  christmas christmas christmas christmas christ...\n",
       "2              3    wrong wrong wrong wrong wrong wrong wrong wrong\n",
       "3              4  melodicdeathmetal melodicdeathmetal melodicdea...\n",
       "4              5  slowcore slowcore slowcore slowcore slowcore s...\n",
       "...          ...                                                ...\n",
       "757597    815627  frenchpop frenchpop frenchpop frenchpop french...\n",
       "757598    815628  hiphop hiphop hiphop hiphop hiphop hiphop hiph...\n",
       "757599    815629  hiphop hiphop hiphop hiphop hiphop hiphop hiph...\n",
       "757600    815630    indie indie indie indie indie indie indie indie\n",
       "757601    815631  chamberpop chamberpop chamberpop chamberpop ch...\n",
       "\n",
       "[757602 rows x 2 columns]"
      ]
     },
     "execution_count": 19,
     "metadata": {},
     "output_type": "execute_result"
    }
   ],
   "source": [
    "grouped_tags = pd.read_csv(\"../data/recsys_data/track_full_data.zip\", sep='\\t')[['track_id', 'tags']].dropna().reset_index(drop=True)\n",
    "track_to_idx = pd.Series(grouped_tags.index, index=grouped_tags['track_id'])\n",
    "\n",
    "grouped_tags"
   ]
  },
  {
   "attachments": {},
   "cell_type": "markdown",
   "metadata": {},
   "source": [
    "#### Computing Vectors and Cosine Similarities"
   ]
  },
  {
   "cell_type": "code",
   "execution_count": 20,
   "metadata": {},
   "outputs": [],
   "source": [
    "# Ref: https://www.datacamp.com/tutorial/recommender-systems-python\n",
    "\n",
    "# Import CountVectorizer and create the count matrix\n",
    "from sklearn.feature_extraction.text import CountVectorizer, TfidfVectorizer\n",
    "\n",
    "# Ignore tags with doc freq < df\n",
    "vec = TfidfVectorizer(min_df=1, binary=True)\n",
    "# vec = CountVectorizer(min_df=2)\n",
    "tag_matrix = vec.fit_transform(grouped_tags['tags'])\n"
   ]
  },
  {
   "cell_type": "code",
   "execution_count": 21,
   "metadata": {},
   "outputs": [
    {
     "name": "stdout",
     "output_type": "stream",
     "text": [
      "Vocabulary of size 70858 for 757602 tracks\n"
     ]
    }
   ],
   "source": [
    "track_count, vocab_size = tag_matrix.shape\n",
    "\n",
    "print(f\"Vocabulary of size {vocab_size} for {track_count} tracks\")"
   ]
  },
  {
   "cell_type": "code",
   "execution_count": 22,
   "metadata": {},
   "outputs": [
    {
     "data": {
      "text/html": [
       "<div>\n",
       "<style scoped>\n",
       "    .dataframe tbody tr th:only-of-type {\n",
       "        vertical-align: middle;\n",
       "    }\n",
       "\n",
       "    .dataframe tbody tr th {\n",
       "        vertical-align: top;\n",
       "    }\n",
       "\n",
       "    .dataframe thead th {\n",
       "        text-align: right;\n",
       "    }\n",
       "</style>\n",
       "<table border=\"1\" class=\"dataframe\">\n",
       "  <thead>\n",
       "    <tr style=\"text-align: right;\">\n",
       "      <th></th>\n",
       "      <th>user_id</th>\n",
       "      <th>track_id</th>\n",
       "      <th>rating</th>\n",
       "      <th>timestamp</th>\n",
       "    </tr>\n",
       "  </thead>\n",
       "  <tbody>\n",
       "    <tr>\n",
       "      <th>0</th>\n",
       "      <td>1</td>\n",
       "      <td>35151</td>\n",
       "      <td>5.0</td>\n",
       "      <td>NaN</td>\n",
       "    </tr>\n",
       "    <tr>\n",
       "      <th>1</th>\n",
       "      <td>1</td>\n",
       "      <td>82497</td>\n",
       "      <td>3.3</td>\n",
       "      <td>NaN</td>\n",
       "    </tr>\n",
       "    <tr>\n",
       "      <th>2</th>\n",
       "      <td>1</td>\n",
       "      <td>97967</td>\n",
       "      <td>4.2</td>\n",
       "      <td>NaN</td>\n",
       "    </tr>\n",
       "    <tr>\n",
       "      <th>3</th>\n",
       "      <td>1</td>\n",
       "      <td>105492</td>\n",
       "      <td>3.5</td>\n",
       "      <td>NaN</td>\n",
       "    </tr>\n",
       "    <tr>\n",
       "      <th>4</th>\n",
       "      <td>1</td>\n",
       "      <td>124021</td>\n",
       "      <td>3.9</td>\n",
       "      <td>NaN</td>\n",
       "    </tr>\n",
       "    <tr>\n",
       "      <th>...</th>\n",
       "      <td>...</td>\n",
       "      <td>...</td>\n",
       "      <td>...</td>\n",
       "      <td>...</td>\n",
       "    </tr>\n",
       "    <tr>\n",
       "      <th>2200756</th>\n",
       "      <td>52829</td>\n",
       "      <td>711172</td>\n",
       "      <td>4.2</td>\n",
       "      <td>NaN</td>\n",
       "    </tr>\n",
       "    <tr>\n",
       "      <th>2200757</th>\n",
       "      <td>52829</td>\n",
       "      <td>745290</td>\n",
       "      <td>1.0</td>\n",
       "      <td>2022-11-15 04:32:42</td>\n",
       "    </tr>\n",
       "    <tr>\n",
       "      <th>2200758</th>\n",
       "      <td>52829</td>\n",
       "      <td>776707</td>\n",
       "      <td>1.0</td>\n",
       "      <td>2022-11-14 17:46:56</td>\n",
       "    </tr>\n",
       "    <tr>\n",
       "      <th>2200759</th>\n",
       "      <td>52829</td>\n",
       "      <td>781335</td>\n",
       "      <td>1.0</td>\n",
       "      <td>2022-11-14 17:37:05</td>\n",
       "    </tr>\n",
       "    <tr>\n",
       "      <th>2200760</th>\n",
       "      <td>52829</td>\n",
       "      <td>795280</td>\n",
       "      <td>1.0</td>\n",
       "      <td>2022-11-15 04:10:00</td>\n",
       "    </tr>\n",
       "  </tbody>\n",
       "</table>\n",
       "<p>2200761 rows × 4 columns</p>\n",
       "</div>"
      ],
      "text/plain": [
       "         user_id  track_id  rating            timestamp\n",
       "0              1     35151     5.0                  NaN\n",
       "1              1     82497     3.3                  NaN\n",
       "2              1     97967     4.2                  NaN\n",
       "3              1    105492     3.5                  NaN\n",
       "4              1    124021     3.9                  NaN\n",
       "...          ...       ...     ...                  ...\n",
       "2200756    52829    711172     4.2                  NaN\n",
       "2200757    52829    745290     1.0  2022-11-15 04:32:42\n",
       "2200758    52829    776707     1.0  2022-11-14 17:46:56\n",
       "2200759    52829    781335     1.0  2022-11-14 17:37:05\n",
       "2200760    52829    795280     1.0  2022-11-15 04:10:00\n",
       "\n",
       "[2200761 rows x 4 columns]"
      ]
     },
     "execution_count": 22,
     "metadata": {},
     "output_type": "execute_result"
    }
   ],
   "source": [
    "all_tracks_ratings = pd.read_csv(\"../data/recsys_data/all_tracks_ratings_full.zip\", sep='\\t')\n",
    "\n",
    "all_tracks_ratings"
   ]
  },
  {
   "cell_type": "code",
   "execution_count": 23,
   "metadata": {},
   "outputs": [],
   "source": [
    "from sklearn.metrics.pairwise import cosine_similarity\n",
    "import numpy as np\n",
    "\n",
    "def get_track_weights(username, track_ids):\n",
    "    uid = get_user_id(username)\n",
    "    user_tracks = all_tracks_ratings[all_tracks_ratings['user_id'] == uid].copy()\n",
    "\n",
    "    # Get ids for recommendation\n",
    "    user_tracks = user_tracks[user_tracks['track_id'].isin(track_ids)]\n",
    "\n",
    "    # Normalized ratings as weights\n",
    "    if len(user_tracks) > 1:\n",
    "        user_tracks['weight'] = normalize(user_tracks['rating']) + 1  # Avoid cancelling minimum rating\n",
    "    else:\n",
    "        user_tracks['weight'] = 1\n",
    "    return user_tracks[['track_id', 'weight']].sort_values('track_id')\n",
    "\n",
    "def get_recommendations(username, cutoff=10, user_track_type='Recent' or 'Top' or 'Loved' or 'All', user_track_cutoff=None, weighted=True):\n",
    "    # Get user tracks\n",
    "    if user_track_type == 'Recent':\n",
    "        r_tracks = user_recent_tracks(username)\n",
    "    elif user_track_type == 'Top':\n",
    "        r_tracks = user_top_tracks(username)\n",
    "    elif user_track_type == 'Loved':\n",
    "        r_tracks = user_loved_tracks(username)\n",
    "    else:\n",
    "        r_tracks = pd.concat([user_recent_tracks(username), user_top_tracks(username), user_loved_tracks(username)])\n",
    "    \n",
    "    if len(r_tracks) == 0:\n",
    "        print(f\"No tracks of type {user_track_type} from user {username}\")\n",
    "        return\n",
    "\n",
    "    # Use only tracks with tags\n",
    "    usable_tracks = r_tracks[r_tracks.isin(grouped_tags['track_id'])].sort_values()\n",
    "\n",
    "    # Get track weights\n",
    "    track_weights = get_track_weights(username, usable_tracks)\n",
    "    top_k_idx = np.argsort(-track_weights['weight'].values)[:user_track_cutoff]\n",
    "\n",
    "    # Top cutoff tracks by rating\n",
    "    track_weights = track_weights['weight'].values[top_k_idx]\n",
    "    usable_tracks = usable_tracks.values[top_k_idx]\n",
    "\n",
    "    print(f\"{r_tracks.size} tracks, from which {usable_tracks.size} have tags\")\n",
    "\n",
    "    # Filter with grouped_tags\n",
    "    track_idx = track_to_idx.loc[usable_tracks]\n",
    "    recommend_tags = grouped_tags.loc[track_idx]\n",
    "\n",
    "    # Vectorize user tracks\n",
    "    recommend_matrix = vec.transform(recommend_tags['tags'])\n",
    "    print(f\"Recommendation matrix shape: {recommend_matrix.shape}\")\n",
    "\n",
    "    # Compute the Cosine Similarity matrix based on the count_matrix\n",
    "    similarities = cosine_similarity(tag_matrix, recommend_matrix)\n",
    "\n",
    "    # Nullify songs used for recommendation (highest similarity)\n",
    "    similarities[track_idx] = 0\n",
    "\n",
    "    # Average similarity for each song, weighted by rating\n",
    "    agg_similarities = np.average(similarities, weights=track_weights if weighted else None, axis=1)\n",
    "\n",
    "    # Pairwise scores to each track, ordered by total aggregated similarity\n",
    "    tup_scores = list(enumerate(agg_similarities))\n",
    "    tup_scores.sort(key=lambda x: -x[1])\n",
    "    rec_idx, scores = zip(*tup_scores[:cutoff])\n",
    "\n",
    "    recomms = grouped_tags.loc[list(rec_idx)].copy()\n",
    "    recomms['tags'] = recomms['tags'].apply(lambda x: ' '.join(pd.Series(x.split(' ')).unique()))\n",
    "    recomms['track_name'] = list(map(get_track_name, recomms['track_id']))\n",
    "    recomms['scores'] = scores\n",
    "\n",
    "    return recomms"
   ]
  },
  {
   "cell_type": "code",
   "execution_count": 24,
   "metadata": {},
   "outputs": [
    {
     "name": "stdout",
     "output_type": "stream",
     "text": [
      "40 tracks, from which 37 have tags\n",
      "Recommendation matrix shape: (37, 70858)\n"
     ]
    },
    {
     "data": {
      "text/html": [
       "<div>\n",
       "<style scoped>\n",
       "    .dataframe tbody tr th:only-of-type {\n",
       "        vertical-align: middle;\n",
       "    }\n",
       "\n",
       "    .dataframe tbody tr th {\n",
       "        vertical-align: top;\n",
       "    }\n",
       "\n",
       "    .dataframe thead th {\n",
       "        text-align: right;\n",
       "    }\n",
       "</style>\n",
       "<table border=\"1\" class=\"dataframe\">\n",
       "  <thead>\n",
       "    <tr style=\"text-align: right;\">\n",
       "      <th></th>\n",
       "      <th>track_id</th>\n",
       "      <th>tags</th>\n",
       "      <th>track_name</th>\n",
       "      <th>scores</th>\n",
       "    </tr>\n",
       "  </thead>\n",
       "  <tbody>\n",
       "    <tr>\n",
       "      <th>698679</th>\n",
       "      <td>752140</td>\n",
       "      <td>pop kpop korean femalevocalists electronic ele...</td>\n",
       "      <td>Outta My Head - JEON SOMI</td>\n",
       "      <td>0.233955</td>\n",
       "    </tr>\n",
       "    <tr>\n",
       "      <th>2421</th>\n",
       "      <td>2621</td>\n",
       "      <td>kpop pop korean electronic seenlive indiepop d...</td>\n",
       "      <td>Bend the Rules - CIX</td>\n",
       "      <td>0.203720</td>\n",
       "    </tr>\n",
       "    <tr>\n",
       "      <th>11101</th>\n",
       "      <td>11975</td>\n",
       "      <td>kpop pop korean electronic seenlive indiepop d...</td>\n",
       "      <td>TESSERACT (Prod. HUI, Minit) - CIX</td>\n",
       "      <td>0.203720</td>\n",
       "    </tr>\n",
       "    <tr>\n",
       "      <th>26367</th>\n",
       "      <td>28381</td>\n",
       "      <td>kpop pop korean electronic seenlive indiepop d...</td>\n",
       "      <td>Here For You - CIX</td>\n",
       "      <td>0.203720</td>\n",
       "    </tr>\n",
       "    <tr>\n",
       "      <th>71051</th>\n",
       "      <td>76530</td>\n",
       "      <td>kpop pop korean electronic seenlive indiepop d...</td>\n",
       "      <td>Wondering - CIX</td>\n",
       "      <td>0.203720</td>\n",
       "    </tr>\n",
       "    <tr>\n",
       "      <th>77217</th>\n",
       "      <td>83185</td>\n",
       "      <td>kpop pop korean electronic seenlive indiepop d...</td>\n",
       "      <td>Confession - CIX</td>\n",
       "      <td>0.203720</td>\n",
       "    </tr>\n",
       "    <tr>\n",
       "      <th>79260</th>\n",
       "      <td>85423</td>\n",
       "      <td>kpop pop korean electronic seenlive indiepop d...</td>\n",
       "      <td>Cinema - Japanese Ver. - CIX</td>\n",
       "      <td>0.203720</td>\n",
       "    </tr>\n",
       "    <tr>\n",
       "      <th>79419</th>\n",
       "      <td>85593</td>\n",
       "      <td>kpop pop korean electronic seenlive indiepop d...</td>\n",
       "      <td>Off My Mind - CIX</td>\n",
       "      <td>0.203720</td>\n",
       "    </tr>\n",
       "    <tr>\n",
       "      <th>97753</th>\n",
       "      <td>105331</td>\n",
       "      <td>kpop pop korean electronic seenlive indiepop d...</td>\n",
       "      <td>In &amp; Out - CIX</td>\n",
       "      <td>0.203720</td>\n",
       "    </tr>\n",
       "    <tr>\n",
       "      <th>148004</th>\n",
       "      <td>159449</td>\n",
       "      <td>kpop pop korean electronic seenlive indiepop d...</td>\n",
       "      <td>Move My Body - CIX</td>\n",
       "      <td>0.203720</td>\n",
       "    </tr>\n",
       "  </tbody>\n",
       "</table>\n",
       "</div>"
      ],
      "text/plain": [
       "        track_id                                               tags  \\\n",
       "698679    752140  pop kpop korean femalevocalists electronic ele...   \n",
       "2421        2621  kpop pop korean electronic seenlive indiepop d...   \n",
       "11101      11975  kpop pop korean electronic seenlive indiepop d...   \n",
       "26367      28381  kpop pop korean electronic seenlive indiepop d...   \n",
       "71051      76530  kpop pop korean electronic seenlive indiepop d...   \n",
       "77217      83185  kpop pop korean electronic seenlive indiepop d...   \n",
       "79260      85423  kpop pop korean electronic seenlive indiepop d...   \n",
       "79419      85593  kpop pop korean electronic seenlive indiepop d...   \n",
       "97753     105331  kpop pop korean electronic seenlive indiepop d...   \n",
       "148004    159449  kpop pop korean electronic seenlive indiepop d...   \n",
       "\n",
       "                                track_name    scores  \n",
       "698679           Outta My Head - JEON SOMI  0.233955  \n",
       "2421                  Bend the Rules - CIX  0.203720  \n",
       "11101   TESSERACT (Prod. HUI, Minit) - CIX  0.203720  \n",
       "26367                   Here For You - CIX  0.203720  \n",
       "71051                      Wondering - CIX  0.203720  \n",
       "77217                     Confession - CIX  0.203720  \n",
       "79260         Cinema - Japanese Ver. - CIX  0.203720  \n",
       "79419                    Off My Mind - CIX  0.203720  \n",
       "97753                       In & Out - CIX  0.203720  \n",
       "148004                  Move My Body - CIX  0.203720  "
      ]
     },
     "execution_count": 24,
     "metadata": {},
     "output_type": "execute_result"
    }
   ],
   "source": [
    "get_recommendations(\"Abbygoulding\", user_track_cutoff=None, cutoff=10, user_track_type='All', weighted=False)\n"
   ]
  },
  {
   "attachments": {},
   "cell_type": "markdown",
   "metadata": {},
   "source": [
    "### Model Libraries"
   ]
  },
  {
   "attachments": {},
   "cell_type": "markdown",
   "metadata": {},
   "source": [
    "Tried recommender systems from 3 libraries:\n",
    "1. Surprise (`surprise_research.ipynb`)\n",
    "2. Cornac (`cornac_research/`)\n",
    "3. Recbole (`recbole_research/`)\n"
   ]
  }
 ],
 "metadata": {
  "kernelspec": {
   "display_name": "lastfm_venv",
   "language": "python",
   "name": "python3"
  },
  "language_info": {
   "codemirror_mode": {
    "name": "ipython",
    "version": 3
   },
   "file_extension": ".py",
   "mimetype": "text/x-python",
   "name": "python",
   "nbconvert_exporter": "python",
   "pygments_lexer": "ipython3",
   "version": "3.10.9"
  },
  "orig_nbformat": 4,
  "vscode": {
   "interpreter": {
    "hash": "9e30340a8910f56f55df821abc0976f66a273ff0fac1da8c537e8f21e9ad59ea"
   }
  }
 },
 "nbformat": 4,
 "nbformat_minor": 2
}
