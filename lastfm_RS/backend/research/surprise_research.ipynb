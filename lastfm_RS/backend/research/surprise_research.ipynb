{
 "cells": [
  {
   "attachments": {},
   "cell_type": "markdown",
   "metadata": {},
   "source": [
    "## Surprise"
   ]
  },
  {
   "attachments": {},
   "cell_type": "markdown",
   "metadata": {},
   "source": [
    "### Loading Data"
   ]
  },
  {
   "cell_type": "code",
   "execution_count": 1,
   "metadata": {},
   "outputs": [],
   "source": [
    "PATH = \"../data/recsys_data/all_tracks_ratings.csv\""
   ]
  },
  {
   "cell_type": "code",
   "execution_count": 2,
   "metadata": {},
   "outputs": [],
   "source": [
    "import os\n",
    "import pandas as pd\n",
    "from surprise import Dataset, Reader\n",
    "from surprise.model_selection import cross_validate\n",
    "from surprise import SVD, SVDpp, NMF, CoClustering, BaselineOnly\n",
    "\n",
    "# path to dataset file\n",
    "file_path = os.path.expanduser(PATH)\n",
    "\n",
    "# As we're loading a custom dataset, we need to define a reader.\n",
    "# 'user item rating timestamp', separated by '\\t' characters.\n",
    "reader = Reader(line_format=\"user item rating timestamp\", sep=\"\\t\", rating_scale=(1, 5), skip_lines=1)\n",
    "\n",
    "data = Dataset.load_from_file(file_path, reader=reader)\n"
   ]
  },
  {
   "cell_type": "code",
   "execution_count": 22,
   "metadata": {},
   "outputs": [
    {
     "data": {
      "text/html": [
       "<div>\n",
       "<style scoped>\n",
       "    .dataframe tbody tr th:only-of-type {\n",
       "        vertical-align: middle;\n",
       "    }\n",
       "\n",
       "    .dataframe tbody tr th {\n",
       "        vertical-align: top;\n",
       "    }\n",
       "\n",
       "    .dataframe thead th {\n",
       "        text-align: right;\n",
       "    }\n",
       "</style>\n",
       "<table border=\"1\" class=\"dataframe\">\n",
       "  <thead>\n",
       "    <tr style=\"text-align: right;\">\n",
       "      <th></th>\n",
       "      <th>test_rmse</th>\n",
       "      <th>test_mae</th>\n",
       "      <th>fit_time</th>\n",
       "      <th>test_time</th>\n",
       "    </tr>\n",
       "    <tr>\n",
       "      <th>Algorithm</th>\n",
       "      <th></th>\n",
       "      <th></th>\n",
       "      <th></th>\n",
       "      <th></th>\n",
       "    </tr>\n",
       "  </thead>\n",
       "  <tbody>\n",
       "    <tr>\n",
       "      <th>SVDpp</th>\n",
       "      <td>1.503750</td>\n",
       "      <td>1.288133</td>\n",
       "      <td>50.628867</td>\n",
       "      <td>9.211165</td>\n",
       "    </tr>\n",
       "    <tr>\n",
       "      <th>SVD</th>\n",
       "      <td>1.509500</td>\n",
       "      <td>1.316164</td>\n",
       "      <td>26.605718</td>\n",
       "      <td>4.056807</td>\n",
       "    </tr>\n",
       "    <tr>\n",
       "      <th>BaselineOnly (SGD)</th>\n",
       "      <td>1.516556</td>\n",
       "      <td>1.324447</td>\n",
       "      <td>2.459481</td>\n",
       "      <td>2.841568</td>\n",
       "    </tr>\n",
       "    <tr>\n",
       "      <th>BaselineOnly (ASL)</th>\n",
       "      <td>1.516728</td>\n",
       "      <td>1.336572</td>\n",
       "      <td>1.001729</td>\n",
       "      <td>2.021120</td>\n",
       "    </tr>\n",
       "    <tr>\n",
       "      <th>CoClustering</th>\n",
       "      <td>1.667045</td>\n",
       "      <td>1.376692</td>\n",
       "      <td>20.455109</td>\n",
       "      <td>2.043114</td>\n",
       "    </tr>\n",
       "    <tr>\n",
       "      <th>NMF</th>\n",
       "      <td>1.696881</td>\n",
       "      <td>1.361316</td>\n",
       "      <td>51.674445</td>\n",
       "      <td>2.350688</td>\n",
       "    </tr>\n",
       "  </tbody>\n",
       "</table>\n",
       "</div>"
      ],
      "text/plain": [
       "                    test_rmse  test_mae   fit_time  test_time\n",
       "Algorithm                                                    \n",
       "SVDpp                1.503750  1.288133  50.628867   9.211165\n",
       "SVD                  1.509500  1.316164  26.605718   4.056807\n",
       "BaselineOnly (SGD)   1.516556  1.324447   2.459481   2.841568\n",
       "BaselineOnly (ASL)   1.516728  1.336572   1.001729   2.021120\n",
       "CoClustering         1.667045  1.376692  20.455109   2.043114\n",
       "NMF                  1.696881  1.361316  51.674445   2.350688"
      ]
     },
     "execution_count": 22,
     "metadata": {},
     "output_type": "execute_result"
    }
   ],
   "source": [
    "# Ref: https://towardsdatascience.com/building-and-testing-recommender-systems-with-surprise-step-by-step-d4ba702ef80b\n",
    "\n",
    "benchmark = []\n",
    "names = [\"SVD\", \"SVDpp\", \"NMF\", \"CoClustering\", \"BaselineOnly (ASL)\", \"BaselineOnly (SGD)\"]\n",
    "# Iterate over all algorithms\n",
    "for algorithm, name in zip([SVD(), SVDpp(), NMF(), CoClustering(), BaselineOnly(verbose=False), BaselineOnly(verbose=False, bsl_options={\"method\": \"sgd\"})], names):\n",
    "    # Perform cross validation\n",
    "    results = cross_validate(algorithm, data, verbose=False, n_jobs=-1)\n",
    "\n",
    "    # Get results & append algorithm name\n",
    "    tmp = pd.DataFrame.from_dict(results).mean(axis=0)\n",
    "    tmp = pd.concat([tmp, pd.Series([name], index=['Algorithm'])])\n",
    "    benchmark.append(tmp)\n",
    "\n",
    "results = pd.DataFrame(benchmark).set_index('Algorithm').sort_values('test_rmse') \n",
    "results"
   ]
  },
  {
   "attachments": {},
   "cell_type": "markdown",
   "metadata": {},
   "source": [
    "Best algorithms seem to be __SVD__, __SVDpp__ & __BaselineOnly__."
   ]
  },
  {
   "attachments": {},
   "cell_type": "markdown",
   "metadata": {},
   "source": [
    "Tuning hyperparameters for Singular Value Decomposition (SVD)"
   ]
  },
  {
   "cell_type": "code",
   "execution_count": 3,
   "metadata": {},
   "outputs": [],
   "source": [
    "from surprise.model_selection.search import GridSearchCV, RandomizedSearchCV"
   ]
  },
  {
   "cell_type": "code",
   "execution_count": 5,
   "metadata": {},
   "outputs": [
    {
     "name": "stdout",
     "output_type": "stream",
     "text": [
      "Results: {'rmse': 1.4659266724913167, 'mae': 1.2531741049182772}\n",
      "Best parameters:\n"
     ]
    },
    {
     "data": {
      "text/plain": [
       "{'rmse': {'n_factors': 200, 'n_epochs': 30, 'lr_all': 0.1, 'reg_all': 0.2},\n",
       " 'mae': {'n_factors': 200, 'n_epochs': 30, 'lr_all': 0.1, 'reg_all': 0.2}}"
      ]
     },
     "execution_count": 5,
     "metadata": {},
     "output_type": "execute_result"
    }
   ],
   "source": [
    "param_grid = {\n",
    "    'n_factors': [100, 200],\n",
    "    \"n_epochs\": list(range(20, 41, 5)),\n",
    "    \"lr_all\": [0.005, 0.05, 0.1, 0.2],\n",
    "    \"reg_all\": [0.02, 0.2, 0.4]\n",
    "}\n",
    "\n",
    "search = RandomizedSearchCV(SVD, param_grid, cv=3, n_iter=10, n_jobs=3)\n",
    "search.fit(data)\n",
    "\n",
    "print(f\"Results: {search.best_score}\")\n",
    "print(f\"Best parameters:\")\n",
    "search.best_params"
   ]
  },
  {
   "cell_type": "code",
   "execution_count": 8,
   "metadata": {},
   "outputs": [
    {
     "data": {
      "text/plain": [
       "test_rmse     1.466108\n",
       "test_mae      1.253331\n",
       "fit_time     49.248589\n",
       "test_time     5.613638\n",
       "dtype: float64"
      ]
     },
     "execution_count": 8,
     "metadata": {},
     "output_type": "execute_result"
    }
   ],
   "source": [
    "best_svd_options = {\n",
    "    'n_factors': 200,\n",
    "    'n_epochs': 30,\n",
    "    'lr_all': 0.1,\n",
    "    'reg_all': 0.2\n",
    "}\n",
    "\n",
    "cv = cross_validate(SVD(**best_svd_options), data, cv=3, n_jobs=-1)\n",
    "\n",
    "pd.DataFrame.from_dict(cv).mean(axis=0)"
   ]
  },
  {
   "attachments": {},
   "cell_type": "markdown",
   "metadata": {},
   "source": [
    "Tuning hyperparameters for Alternating Least Squares (ALS)"
   ]
  },
  {
   "cell_type": "code",
   "execution_count": 10,
   "metadata": {},
   "outputs": [
    {
     "name": "stdout",
     "output_type": "stream",
     "text": [
      "Results: {'rmse': 1.520624223129533, 'mae': 1.339626584083473}\n",
      "Best parameters:\n"
     ]
    },
    {
     "data": {
      "text/plain": [
       "{'rmse': {'bsl_options': {'method': 'als',\n",
       "   'n_epochs': 30,\n",
       "   'reg_i': 10,\n",
       "   'reg_u': 10},\n",
       "  'verbose': False},\n",
       " 'mae': {'bsl_options': {'method': 'als',\n",
       "   'n_epochs': 30,\n",
       "   'reg_i': 10,\n",
       "   'reg_u': 10},\n",
       "  'verbose': False}}"
      ]
     },
     "execution_count": 10,
     "metadata": {},
     "output_type": "execute_result"
    }
   ],
   "source": [
    "param_grid = {\n",
    "    'bsl_options':\n",
    "        {\n",
    "            'method': ['als'],\n",
    "            'n_epochs': [20, 30, 40, 50],\n",
    "            'reg_i': list(range(10, 41, 5)),\n",
    "            'reg_u': list(range(10, 41, 5)),\n",
    "        },\n",
    "    'verbose': [False]\n",
    "}\n",
    "\n",
    "search = GridSearchCV(BaselineOnly, param_grid, cv=3, n_jobs=3)\n",
    "search.fit(data)\n",
    "\n",
    "print(f\"Results: {search.best_score}\")\n",
    "print(f\"Best parameters:\")\n",
    "search.best_params"
   ]
  },
  {
   "attachments": {},
   "cell_type": "markdown",
   "metadata": {},
   "source": [
    "Tuning hyperparameters for Stochastic Gradient Descent (SGD)"
   ]
  },
  {
   "cell_type": "code",
   "execution_count": 12,
   "metadata": {},
   "outputs": [
    {
     "name": "stdout",
     "output_type": "stream",
     "text": [
      "Results: {'rmse': 1.5204474491753495, 'mae': 1.3214845939520232}\n",
      "Best parameters:\n"
     ]
    },
    {
     "data": {
      "text/plain": [
       "{'rmse': {'bsl_options': {'method': 'sgd',\n",
       "   'n_epochs': 100,\n",
       "   'reg': 0.2,\n",
       "   'learning_rate': 0.001},\n",
       "  'verbose': False},\n",
       " 'mae': {'bsl_options': {'method': 'sgd',\n",
       "   'n_epochs': 200,\n",
       "   'reg': 0.02,\n",
       "   'learning_rate': 0.001},\n",
       "  'verbose': False}}"
      ]
     },
     "execution_count": 12,
     "metadata": {},
     "output_type": "execute_result"
    }
   ],
   "source": [
    "param_grid = {\n",
    "    'bsl_options':\n",
    "        {\n",
    "            'method': ['sgd'],\n",
    "            'n_epochs': [100, 150, 200],\n",
    "            'reg': [0.02, 0.05, 0.1, 0.2],\n",
    "            'learning_rate': [0.001, 0.01, 0.1]\n",
    "        },\n",
    "    'verbose': [False]\n",
    "}\n",
    "\n",
    "search = GridSearchCV(BaselineOnly, param_grid, cv=3, n_jobs=3)\n",
    "search.fit(data)\n",
    "\n",
    "print(f\"Results: {search.best_score}\")\n",
    "print(f\"Best parameters:\")\n",
    "search.best_params\n"
   ]
  }
 ],
 "metadata": {
  "kernelspec": {
   "display_name": "lastfm_venv",
   "language": "python",
   "name": "python3"
  },
  "language_info": {
   "codemirror_mode": {
    "name": "ipython",
    "version": 3
   },
   "file_extension": ".py",
   "mimetype": "text/x-python",
   "name": "python",
   "nbconvert_exporter": "python",
   "pygments_lexer": "ipython3",
   "version": "3.10.9"
  },
  "orig_nbformat": 4,
  "vscode": {
   "interpreter": {
    "hash": "9e30340a8910f56f55df821abc0976f66a273ff0fac1da8c537e8f21e9ad59ea"
   }
  }
 },
 "nbformat": 4,
 "nbformat_minor": 2
}
