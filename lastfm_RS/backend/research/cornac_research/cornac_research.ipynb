{
 "cells": [
  {
   "cell_type": "code",
   "execution_count": 1,
   "metadata": {},
   "outputs": [],
   "source": [
    "import cornac\n",
    "from cornac.eval_methods import RatioSplit\n",
    "from cornac.models import *\n",
    "from cornac.metrics import MAE, RMSE, Precision, Recall, NDCG, AUC, MAP"
   ]
  },
  {
   "cell_type": "code",
   "execution_count": 2,
   "metadata": {},
   "outputs": [
    {
     "name": "stdout",
     "output_type": "stream",
     "text": [
      "\n",
      "TEST:\n",
      "...\n",
      "    |    MAE |   RMSE |    AUC |    MAP | NDCG@10 | Precision@10 | Recall@10 | Train (s) | Test (s)\n",
      "--- + ------ + ------ + ------ + ------ + ------- + ------------ + --------- + --------- + --------\n",
      "MF  | 0.7430 | 0.8998 | 0.7445 | 0.0407 |  0.0479 |       0.0437 |    0.0352 |    0.0327 |   1.0223\n",
      "PMF | 0.7534 | 0.9138 | 0.7744 | 0.0491 |  0.0617 |       0.0533 |    0.0479 |    1.6140 |   1.6220\n",
      "BPR | 2.0143 | 2.2267 | 0.8695 | 0.0753 |  0.0975 |       0.0727 |    0.0891 |    1.2909 |   1.1428\n",
      "\n"
     ]
    }
   ],
   "source": [
    "# load the built-in MovieLens 100K and split the data based on ratio\n",
    "ml_100k = cornac.datasets.movielens.load_feedback()\n",
    "rs = RatioSplit(data=ml_100k, test_size=0.2, rating_threshold=4.0, seed=123)\n",
    "\n",
    "# initialize models, here we are comparing: Biased MF, PMF, and BPR\n",
    "models = [\n",
    "    MF(k=10, max_iter=25, learning_rate=0.01, lambda_reg=0.02, use_bias=True, seed=123),\n",
    "    PMF(k=10, max_iter=100, learning_rate=0.001, lambda_reg=0.001, seed=123),\n",
    "    BPR(k=10, max_iter=200, learning_rate=0.001, lambda_reg=0.01, seed=123),\n",
    "]\n",
    "\n",
    "# define metrics to evaluate the models\n",
    "metrics = [MAE(), RMSE(), Precision(k=10), Recall(k=10), NDCG(k=10), AUC(), MAP()]\n",
    "\n",
    "# put it together in an experiment, voilà!\n",
    "cornac.Experiment(eval_method=rs, models=models, metrics=metrics, user_based=True).run()"
   ]
  },
  {
   "cell_type": "code",
   "execution_count": 2,
   "metadata": {},
   "outputs": [
    {
     "name": "stdout",
     "output_type": "stream",
     "text": [
      "rating_threshold = 3.0\n",
      "exclude_unknowns = True\n",
      "---\n",
      "Training data:\n",
      "Number of users = 52780\n",
      "Number of items = 809977\n",
      "Number of ratings = 2178753\n",
      "Max rating = 5.0\n",
      "Min rating = 1.0\n",
      "Global mean = 3.1\n",
      "---\n",
      "Test data:\n",
      "Number of users = 13866\n",
      "Number of items = 14412\n",
      "Number of ratings = 16340\n",
      "Number of unknown users = 0\n",
      "Number of unknown items = 0\n",
      "---\n",
      "Total users = 52780\n",
      "Total items = 809977\n",
      "\n",
      "[MF] Training started!\n",
      "\n",
      "[MF] Evaluation started!\n"
     ]
    },
    {
     "data": {
      "application/vnd.jupyter.widget-view+json": {
       "model_id": "722c4a28ff804fd28c95e10a1b901747",
       "version_major": 2,
       "version_minor": 0
      },
      "text/plain": [
       "Rating:   0%|          | 0/16340 [00:00<?, ?it/s]"
      ]
     },
     "metadata": {},
     "output_type": "display_data"
    },
    {
     "data": {
      "application/vnd.jupyter.widget-view+json": {
       "model_id": "9fca441fbf2d41c1a48f9a804781dd7a",
       "version_major": 2,
       "version_minor": 0
      },
      "text/plain": [
       "Ranking:   0%|          | 0/13866 [00:00<?, ?it/s]"
      ]
     },
     "metadata": {},
     "output_type": "display_data"
    },
    {
     "name": "stdout",
     "output_type": "stream",
     "text": [
      "\n",
      "[PMF] Training started!\n",
      "\n",
      "[PMF] Evaluation started!\n"
     ]
    },
    {
     "data": {
      "application/vnd.jupyter.widget-view+json": {
       "model_id": "deab9b62f40d4d7988f3d84193d07a0f",
       "version_major": 2,
       "version_minor": 0
      },
      "text/plain": [
       "Rating:   0%|          | 0/16340 [00:00<?, ?it/s]"
      ]
     },
     "metadata": {},
     "output_type": "display_data"
    },
    {
     "data": {
      "application/vnd.jupyter.widget-view+json": {
       "model_id": "a783cefb8b9b49eb961da91e108d862f",
       "version_major": 2,
       "version_minor": 0
      },
      "text/plain": [
       "Ranking:   0%|          | 0/13866 [00:00<?, ?it/s]"
      ]
     },
     "metadata": {},
     "output_type": "display_data"
    },
    {
     "name": "stdout",
     "output_type": "stream",
     "text": [
      "\n",
      "[BPR] Training started!\n",
      "\n",
      "[BPR] Evaluation started!\n"
     ]
    },
    {
     "data": {
      "application/vnd.jupyter.widget-view+json": {
       "model_id": "a530496e8c324b348be3db20fe8427c1",
       "version_major": 2,
       "version_minor": 0
      },
      "text/plain": [
       "Rating:   0%|          | 0/16340 [00:00<?, ?it/s]"
      ]
     },
     "metadata": {},
     "output_type": "display_data"
    },
    {
     "data": {
      "application/vnd.jupyter.widget-view+json": {
       "model_id": "9deeaf713c584581b5fbf5abd69024b3",
       "version_major": 2,
       "version_minor": 0
      },
      "text/plain": [
       "Ranking:   0%|          | 0/13866 [00:00<?, ?it/s]"
      ]
     },
     "metadata": {},
     "output_type": "display_data"
    },
    {
     "name": "stdout",
     "output_type": "stream",
     "text": [
      "\n",
      "TEST:\n",
      "...\n",
      "    |    MAE |   RMSE |    AUC |    MAP | NDCG@20 | Precision@20 | Recall@20 | Train (s) |  Test (s)\n",
      "--- + ------ + ------ + ------ + ------ + ------- + ------------ + --------- + --------- + ---------\n",
      "MF  | 1.2827 | 1.2992 | 0.6733 | 0.0018 |  0.0026 |       0.0004 |    0.0065 |    1.6460 | 1686.8360\n",
      "PMF | 1.3188 | 1.3386 | 0.6243 | 0.0018 |  0.0021 |       0.0003 |    0.0052 |  172.0942 | 2233.1883\n",
      "BPR | 2.0187 | 2.0602 | 0.8693 | 0.0017 |  0.0021 |       0.0003 |    0.0055 |   46.8696 | 1624.7393\n",
      "\n"
     ]
    }
   ],
   "source": [
    "import pandas as pd\n",
    "\n",
    "data = pd.read_csv('../../data/recsys_data/all_tracks_ratings.zip', sep='\\t')\n",
    "rs = RatioSplit(data=data.drop(columns='timestamp').values, test_size=0.01, rating_threshold=3, verbose=True)\n",
    "\n",
    "# initialize models, here we are comparing: Biased MF, PMF, and BPR\n",
    "models = [\n",
    "    MF(k=20, max_iter=25, learning_rate=0.01, lambda_reg=0.02, use_bias=True),\n",
    "    PMF(k=20, max_iter=100, learning_rate=0.001, lambda_reg=0.001),\n",
    "    BPR(k=20, max_iter=200, learning_rate=0.001, lambda_reg=0.01),\n",
    "]\n",
    "\n",
    "# define metrics to evaluate the models\n",
    "metrics = [MAE(), RMSE(), Precision(k=20), Recall(k=20), NDCG(k=20), AUC(), MAP()]\n",
    "\n",
    "# put it together in an experiment, voilà!\n",
    "cornac.Experiment(eval_method=rs, models=models, metrics=metrics, user_based=True).run()"
   ]
  }
 ],
 "metadata": {
  "kernelspec": {
   "display_name": "lastfm_venv",
   "language": "python",
   "name": "python3"
  },
  "language_info": {
   "codemirror_mode": {
    "name": "ipython",
    "version": 3
   },
   "file_extension": ".py",
   "mimetype": "text/x-python",
   "name": "python",
   "nbconvert_exporter": "python",
   "pygments_lexer": "ipython3",
   "version": "3.10.9"
  },
  "orig_nbformat": 4,
  "vscode": {
   "interpreter": {
    "hash": "9e30340a8910f56f55df821abc0976f66a273ff0fac1da8c537e8f21e9ad59ea"
   }
  }
 },
 "nbformat": 4,
 "nbformat_minor": 2
}
