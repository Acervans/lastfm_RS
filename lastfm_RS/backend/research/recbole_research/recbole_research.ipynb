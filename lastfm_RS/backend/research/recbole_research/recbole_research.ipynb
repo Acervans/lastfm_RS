{
 "cells": [
  {
   "attachments": {},
   "cell_type": "markdown",
   "metadata": {},
   "source": [
    "# RecBole Research"
   ]
  },
  {
   "attachments": {},
   "cell_type": "markdown",
   "metadata": {},
   "source": [
    "## Atomic files and datasets"
   ]
  },
  {
   "attachments": {},
   "cell_type": "markdown",
   "metadata": {},
   "source": [
    "### Atomic files using datasets obtained with `generate_data.ipynb`"
   ]
  },
  {
   "cell_type": "code",
   "execution_count": 2,
   "metadata": {},
   "outputs": [],
   "source": [
    "import pandas as pd\n",
    "import numpy as np\n",
    "from datetime import datetime\n",
    "\n",
    "LASTFM_RB = 'lastfm_recbole'\n",
    "DATA_DIR = f'../../data/recsys_data/'"
   ]
  },
  {
   "cell_type": "code",
   "execution_count": 18,
   "metadata": {},
   "outputs": [
    {
     "data": {
      "text/html": [
       "<div>\n",
       "<style scoped>\n",
       "    .dataframe tbody tr th:only-of-type {\n",
       "        vertical-align: middle;\n",
       "    }\n",
       "\n",
       "    .dataframe tbody tr th {\n",
       "        vertical-align: top;\n",
       "    }\n",
       "\n",
       "    .dataframe thead th {\n",
       "        text-align: right;\n",
       "    }\n",
       "</style>\n",
       "<table border=\"1\" class=\"dataframe\">\n",
       "  <thead>\n",
       "    <tr style=\"text-align: right;\">\n",
       "      <th></th>\n",
       "      <th>user_id:token</th>\n",
       "      <th>track_id:token</th>\n",
       "      <th>rating:float</th>\n",
       "      <th>timestamp:float</th>\n",
       "    </tr>\n",
       "  </thead>\n",
       "  <tbody>\n",
       "    <tr>\n",
       "      <th>0</th>\n",
       "      <td>1</td>\n",
       "      <td>35151</td>\n",
       "      <td>5.0</td>\n",
       "      <td>NaN</td>\n",
       "    </tr>\n",
       "    <tr>\n",
       "      <th>1</th>\n",
       "      <td>1</td>\n",
       "      <td>82497</td>\n",
       "      <td>3.3</td>\n",
       "      <td>NaN</td>\n",
       "    </tr>\n",
       "    <tr>\n",
       "      <th>2</th>\n",
       "      <td>1</td>\n",
       "      <td>97967</td>\n",
       "      <td>4.2</td>\n",
       "      <td>NaN</td>\n",
       "    </tr>\n",
       "    <tr>\n",
       "      <th>3</th>\n",
       "      <td>1</td>\n",
       "      <td>105492</td>\n",
       "      <td>3.5</td>\n",
       "      <td>NaN</td>\n",
       "    </tr>\n",
       "    <tr>\n",
       "      <th>4</th>\n",
       "      <td>1</td>\n",
       "      <td>124021</td>\n",
       "      <td>3.9</td>\n",
       "      <td>NaN</td>\n",
       "    </tr>\n",
       "    <tr>\n",
       "      <th>...</th>\n",
       "      <td>...</td>\n",
       "      <td>...</td>\n",
       "      <td>...</td>\n",
       "      <td>...</td>\n",
       "    </tr>\n",
       "    <tr>\n",
       "      <th>2200756</th>\n",
       "      <td>52829</td>\n",
       "      <td>711172</td>\n",
       "      <td>4.2</td>\n",
       "      <td>NaN</td>\n",
       "    </tr>\n",
       "    <tr>\n",
       "      <th>2200757</th>\n",
       "      <td>52829</td>\n",
       "      <td>745290</td>\n",
       "      <td>1.0</td>\n",
       "      <td>1.668483e+09</td>\n",
       "    </tr>\n",
       "    <tr>\n",
       "      <th>2200758</th>\n",
       "      <td>52829</td>\n",
       "      <td>776707</td>\n",
       "      <td>1.0</td>\n",
       "      <td>1.668444e+09</td>\n",
       "    </tr>\n",
       "    <tr>\n",
       "      <th>2200759</th>\n",
       "      <td>52829</td>\n",
       "      <td>781335</td>\n",
       "      <td>1.0</td>\n",
       "      <td>1.668444e+09</td>\n",
       "    </tr>\n",
       "    <tr>\n",
       "      <th>2200760</th>\n",
       "      <td>52829</td>\n",
       "      <td>795280</td>\n",
       "      <td>1.0</td>\n",
       "      <td>1.668482e+09</td>\n",
       "    </tr>\n",
       "  </tbody>\n",
       "</table>\n",
       "<p>2200761 rows × 4 columns</p>\n",
       "</div>"
      ],
      "text/plain": [
       "         user_id:token  track_id:token  rating:float  timestamp:float\n",
       "0                    1           35151           5.0              NaN\n",
       "1                    1           82497           3.3              NaN\n",
       "2                    1           97967           4.2              NaN\n",
       "3                    1          105492           3.5              NaN\n",
       "4                    1          124021           3.9              NaN\n",
       "...                ...             ...           ...              ...\n",
       "2200756          52829          711172           4.2              NaN\n",
       "2200757          52829          745290           1.0     1.668483e+09\n",
       "2200758          52829          776707           1.0     1.668444e+09\n",
       "2200759          52829          781335           1.0     1.668444e+09\n",
       "2200760          52829          795280           1.0     1.668482e+09\n",
       "\n",
       "[2200761 rows x 4 columns]"
      ]
     },
     "execution_count": 18,
     "metadata": {},
     "output_type": "execute_result"
    }
   ],
   "source": [
    "all_ratings = pd.read_csv(DATA_DIR + 'all_tracks_ratings.csv', sep='\\t')\n",
    "all_ratings.columns = ['user_id:token', 'track_id:token', 'rating:float', 'timestamp:float']\n",
    "all_ratings['timestamp:float'] = all_ratings['timestamp:float'].apply(\n",
    "    lambda x: datetime.strptime(x, \"%Y-%m-%d %H:%M:%S\").timestamp() if x is not np.nan else np.nan)\n",
    "\n",
    "all_ratings.to_csv(f'{DATA_DIR}/{LASTFM_RB}/{LASTFM_RB}.inter', index=False, sep='\\t')\n",
    "all_ratings\n"
   ]
  },
  {
   "cell_type": "code",
   "execution_count": 14,
   "metadata": {},
   "outputs": [
    {
     "data": {
      "text/plain": [
       "0              1\n",
       "20             2\n",
       "60             3\n",
       "119            4\n",
       "148            5\n",
       "           ...  \n",
       "2200552    52825\n",
       "2200587    52826\n",
       "2200624    52827\n",
       "2200663    52828\n",
       "2200703    52829\n",
       "Name: user_id:token, Length: 52780, dtype: int64"
      ]
     },
     "execution_count": 14,
     "metadata": {},
     "output_type": "execute_result"
    }
   ],
   "source": [
    "all_users = pd.read_csv(DATA_DIR + 'all_tracks_ratings.csv', sep='\\t')['user_id'].drop_duplicates().rename('user_id:token')\n",
    "all_users.to_csv(f'{DATA_DIR}/{LASTFM_RB}/{LASTFM_RB}.user', index=False, sep='\\t')\n",
    "\n",
    "all_users"
   ]
  },
  {
   "cell_type": "code",
   "execution_count": 15,
   "metadata": {},
   "outputs": [],
   "source": [
    "all_vads = pd.read_csv(DATA_DIR + 'all_tracks_vads.csv', sep='\\t')\n",
    "OG_COLS = ['Track', 'V', 'A', 'D', 'StSc']\n",
    "NORM_COLS = ['Track', 'V_Norm', 'A_Norm', 'D_Norm', 'StSc_Norm']\n",
    "\n",
    "RECBOLE_COLS = ['track_id:token', 'v:float', 'a:float', 'd:float', 'stsc:float']"
   ]
  },
  {
   "attachments": {},
   "cell_type": "markdown",
   "metadata": {},
   "source": [
    "#### Option 1: Original VAD + StSc"
   ]
  },
  {
   "cell_type": "code",
   "execution_count": 16,
   "metadata": {},
   "outputs": [
    {
     "data": {
      "text/html": [
       "<div>\n",
       "<style scoped>\n",
       "    .dataframe tbody tr th:only-of-type {\n",
       "        vertical-align: middle;\n",
       "    }\n",
       "\n",
       "    .dataframe tbody tr th {\n",
       "        vertical-align: top;\n",
       "    }\n",
       "\n",
       "    .dataframe thead th {\n",
       "        text-align: right;\n",
       "    }\n",
       "</style>\n",
       "<table border=\"1\" class=\"dataframe\">\n",
       "  <thead>\n",
       "    <tr style=\"text-align: right;\">\n",
       "      <th></th>\n",
       "      <th>track_id:token</th>\n",
       "      <th>v:float</th>\n",
       "      <th>a:float</th>\n",
       "      <th>d:float</th>\n",
       "      <th>stsc:float</th>\n",
       "    </tr>\n",
       "  </thead>\n",
       "  <tbody>\n",
       "    <tr>\n",
       "      <th>0</th>\n",
       "      <td>1</td>\n",
       "      <td>NaN</td>\n",
       "      <td>NaN</td>\n",
       "      <td>NaN</td>\n",
       "      <td>NaN</td>\n",
       "    </tr>\n",
       "    <tr>\n",
       "      <th>1</th>\n",
       "      <td>2</td>\n",
       "      <td>0.667880</td>\n",
       "      <td>0.440461</td>\n",
       "      <td>0.568477</td>\n",
       "      <td>0.720910</td>\n",
       "    </tr>\n",
       "    <tr>\n",
       "      <th>2</th>\n",
       "      <td>3</td>\n",
       "      <td>0.587845</td>\n",
       "      <td>0.490143</td>\n",
       "      <td>0.504333</td>\n",
       "      <td>0.555556</td>\n",
       "    </tr>\n",
       "    <tr>\n",
       "      <th>3</th>\n",
       "      <td>4</td>\n",
       "      <td>0.631987</td>\n",
       "      <td>0.476708</td>\n",
       "      <td>0.578362</td>\n",
       "      <td>0.696299</td>\n",
       "    </tr>\n",
       "    <tr>\n",
       "      <th>4</th>\n",
       "      <td>5</td>\n",
       "      <td>0.623167</td>\n",
       "      <td>0.380725</td>\n",
       "      <td>0.507896</td>\n",
       "      <td>0.654302</td>\n",
       "    </tr>\n",
       "    <tr>\n",
       "      <th>...</th>\n",
       "      <td>...</td>\n",
       "      <td>...</td>\n",
       "      <td>...</td>\n",
       "      <td>...</td>\n",
       "      <td>...</td>\n",
       "    </tr>\n",
       "    <tr>\n",
       "      <th>815626</th>\n",
       "      <td>815627</td>\n",
       "      <td>0.677566</td>\n",
       "      <td>0.472298</td>\n",
       "      <td>0.600010</td>\n",
       "      <td>0.875615</td>\n",
       "    </tr>\n",
       "    <tr>\n",
       "      <th>815627</th>\n",
       "      <td>815628</td>\n",
       "      <td>0.651401</td>\n",
       "      <td>0.461883</td>\n",
       "      <td>0.575568</td>\n",
       "      <td>0.751494</td>\n",
       "    </tr>\n",
       "    <tr>\n",
       "      <th>815628</th>\n",
       "      <td>815629</td>\n",
       "      <td>NaN</td>\n",
       "      <td>NaN</td>\n",
       "      <td>NaN</td>\n",
       "      <td>NaN</td>\n",
       "    </tr>\n",
       "    <tr>\n",
       "      <th>815629</th>\n",
       "      <td>815630</td>\n",
       "      <td>0.608476</td>\n",
       "      <td>0.440966</td>\n",
       "      <td>0.554662</td>\n",
       "      <td>0.634783</td>\n",
       "    </tr>\n",
       "    <tr>\n",
       "      <th>815630</th>\n",
       "      <td>815631</td>\n",
       "      <td>0.627072</td>\n",
       "      <td>0.423245</td>\n",
       "      <td>0.515132</td>\n",
       "      <td>0.728595</td>\n",
       "    </tr>\n",
       "  </tbody>\n",
       "</table>\n",
       "<p>815631 rows × 5 columns</p>\n",
       "</div>"
      ],
      "text/plain": [
       "        track_id:token   v:float   a:float   d:float  stsc:float\n",
       "0                    1       NaN       NaN       NaN         NaN\n",
       "1                    2  0.667880  0.440461  0.568477    0.720910\n",
       "2                    3  0.587845  0.490143  0.504333    0.555556\n",
       "3                    4  0.631987  0.476708  0.578362    0.696299\n",
       "4                    5  0.623167  0.380725  0.507896    0.654302\n",
       "...                ...       ...       ...       ...         ...\n",
       "815626          815627  0.677566  0.472298  0.600010    0.875615\n",
       "815627          815628  0.651401  0.461883  0.575568    0.751494\n",
       "815628          815629       NaN       NaN       NaN         NaN\n",
       "815629          815630  0.608476  0.440966  0.554662    0.634783\n",
       "815630          815631  0.627072  0.423245  0.515132    0.728595\n",
       "\n",
       "[815631 rows x 5 columns]"
      ]
     },
     "execution_count": 16,
     "metadata": {},
     "output_type": "execute_result"
    }
   ],
   "source": [
    "og_vads = all_vads[OG_COLS].copy()\n",
    "og_vads.columns = RECBOLE_COLS\n",
    "\n",
    "og_vads.to_csv(f'{DATA_DIR}/{LASTFM_RB}/{LASTFM_RB}.item', index=False, sep='\\t')\n",
    "og_vads\n"
   ]
  },
  {
   "cell_type": "markdown",
   "metadata": {},
   "source": [
    "#### Option 1: Normalized VAD + StSc"
   ]
  },
  {
   "cell_type": "code",
   "execution_count": null,
   "metadata": {},
   "outputs": [],
   "source": [
    "norm_vads = all_vads[NORM_COLS].copy()\n",
    "norm_vads.columns = RECBOLE_COLS\n",
    "\n",
    "norm_vads.to_csv(f'{DATA_DIR}/{LASTFM_RB}/{LASTFM_RB}.item', index=False, sep='\\t')\n",
    "norm_vads\n"
   ]
  },
  {
   "attachments": {},
   "cell_type": "markdown",
   "metadata": {},
   "source": [
    "## Custom model"
   ]
  },
  {
   "cell_type": "code",
   "execution_count": null,
   "metadata": {},
   "outputs": [],
   "source": []
  }
 ],
 "metadata": {
  "kernelspec": {
   "display_name": "lastfm_venv",
   "language": "python",
   "name": "python3"
  },
  "language_info": {
   "codemirror_mode": {
    "name": "ipython",
    "version": 3
   },
   "file_extension": ".py",
   "mimetype": "text/x-python",
   "name": "python",
   "nbconvert_exporter": "python",
   "pygments_lexer": "ipython3",
   "version": "3.10.9"
  },
  "orig_nbformat": 4,
  "vscode": {
   "interpreter": {
    "hash": "9e30340a8910f56f55df821abc0976f66a273ff0fac1da8c537e8f21e9ad59ea"
   }
  }
 },
 "nbformat": 4,
 "nbformat_minor": 2
}
